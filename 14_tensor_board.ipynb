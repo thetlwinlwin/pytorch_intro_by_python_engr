{
 "cells": [
  {
   "cell_type": "markdown",
   "source": [
    "# Do the following steps to use tensorboard in notebook"
   ],
   "metadata": {}
  },
  {
   "cell_type": "markdown",
   "source": [
    "### <span style='color:cyan'>do not install tb-nightly</span>"
   ],
   "metadata": {}
  },
  {
   "cell_type": "markdown",
   "source": [
    "### <span style='color:cyan'>be careful [ .to(device) ] as tensorboard only accept one. Not Both </span>"
   ],
   "metadata": {}
  },
  {
   "cell_type": "markdown",
   "source": [
    "## ctrl + shift + p to open command palatte in vscode and type tensorboard. Then, select the cwd."
   ],
   "metadata": {}
  },
  {
   "cell_type": "code",
   "execution_count": 24,
   "source": [
    "import torch\r\n",
    "import torch.nn as nn\r\n",
    "import torchvision\r\n",
    "import torchvision.transforms as transforms\r\n",
    "import matplotlib.pyplot as plt\r\n",
    "from torch.utils.tensorboard import SummaryWriter\r\n",
    "\r\n",
    "writer = SummaryWriter()\r\n",
    "device = torch.device('cuda' if torch.cuda.is_available() else 'cpu')\r\n",
    "\r\n",
    "input_size = 784 #28x28 pixels\r\n",
    "hidden_size = 500  # can try differnet size\r\n",
    "num_classes = 10 # classification of '0 to 9'\r\n",
    "num_epochs = 2\r\n",
    "batch_size = 100 \r\n",
    "learning_rate = 0.01\r\n",
    "\r\n",
    "train_dataset = torchvision.datasets.MNIST(root='./feed_forward_net',train = True,transform=transforms.ToTensor(),download = True)\r\n",
    "test_dataset = torchvision.datasets.MNIST(root='./feed_forward_net',train = False,transform=transforms.ToTensor())\r\n",
    "\r\n",
    "train_loader = torch.utils.data.DataLoader(dataset = train_dataset,batch_size=batch_size,shuffle=True)\r\n",
    "test_loader = torch.utils.data.DataLoader(dataset = test_dataset,batch_size=batch_size,shuffle=False)"
   ],
   "outputs": [],
   "metadata": {}
  },
  {
   "cell_type": "code",
   "execution_count": 25,
   "source": [
    "class NeuralNet(nn.Module):\r\n",
    "    def __init__(self, input_size, hidden_size, num_classes):\r\n",
    "        super(NeuralNet, self).__init__()\r\n",
    "        self.l1 = nn.Linear(input_size, hidden_size) \r\n",
    "        self.relu = nn.ReLU()\r\n",
    "        self.l2 = nn.Linear(hidden_size, num_classes)  \r\n",
    "    \r\n",
    "    def forward(self, x):\r\n",
    "        out = self.l1(x)\r\n",
    "        out = self.relu(out)\r\n",
    "        out = self.l2(out)\r\n",
    "        # no activation and no softmax at the end\r\n",
    "        return out"
   ],
   "outputs": [],
   "metadata": {}
  },
  {
   "cell_type": "code",
   "execution_count": 26,
   "source": [
    "model =NeuralNet(input_size,hidden_size,num_classes).to(device)\r\n",
    "\r\n",
    "criterion = nn.CrossEntropyLoss()\r\n",
    "optimizer = torch.optim.Adam(model.parameters(), lr=learning_rate) "
   ],
   "outputs": [],
   "metadata": {}
  },
  {
   "cell_type": "code",
   "execution_count": 27,
   "source": [
    "examples = iter(train_loader)\r\n",
    "samples, labels = next(examples)\r\n",
    "\r\n",
    "# have to be [.to(device)]\r\n",
    "writer.add_graph(model,samples.reshape(-1,28*28).to(device))"
   ],
   "outputs": [],
   "metadata": {}
  },
  {
   "cell_type": "code",
   "execution_count": 28,
   "source": [
    "n_total_steps = len(train_loader)\r\n",
    "running_loss = 0.0\r\n",
    "running_correct = 0.0\r\n",
    "for epoch in range(num_epochs):\r\n",
    "    for i, (images,labels)  in enumerate(train_loader):\r\n",
    "        # input size is 28x28 = 784 \r\n",
    "        # origin shape: [100, 1, 28, 28]\r\n",
    "        # resized: [100, 784]\r\n",
    "        images = images.reshape(-1,28*28).to(device)\r\n",
    "        labels = labels.to(device)\r\n",
    "        \r\n",
    "        outputs = model(images)\r\n",
    "        loss = criterion(outputs,labels)\r\n",
    "        \r\n",
    "        optimizer.zero_grad()\r\n",
    "        loss.backward()\r\n",
    "        optimizer.step()\r\n",
    "\r\n",
    "        running_loss += loss.item()\r\n",
    "        _, predictions = torch.max(outputs.data,1)\r\n",
    "        running_correct += (predictions==labels).sum().item()\r\n",
    "\r\n",
    "        # for every 100 steps we print the following.\r\n",
    "        if (i+1)%100 == 0:\r\n",
    "            print(f'epoch {epoch+1}/{num_epochs},step{i+1}/{n_total_steps},loss = {loss.item():.3f}')\r\n",
    "            # we write the training loss for every 100 steps.\r\n",
    "            writer.add_scalar('training loss', running_loss/100, epoch*n_total_steps+i)\r\n",
    "            writer.add_scalar('training accuracy', running_correct/100, epoch*n_total_steps+i)\r\n",
    "            running_loss = 0.0\r\n",
    "            running_correct = 0.0"
   ],
   "outputs": [
    {
     "output_type": "stream",
     "name": "stdout",
     "text": [
      "epoch 1/2,step100/600,loss = 0.276\n",
      "epoch 1/2,step200/600,loss = 0.155\n",
      "epoch 1/2,step300/600,loss = 0.256\n",
      "epoch 1/2,step400/600,loss = 0.202\n",
      "epoch 1/2,step500/600,loss = 0.063\n",
      "epoch 1/2,step600/600,loss = 0.161\n",
      "epoch 2/2,step100/600,loss = 0.065\n",
      "epoch 2/2,step200/600,loss = 0.084\n",
      "epoch 2/2,step300/600,loss = 0.189\n",
      "epoch 2/2,step400/600,loss = 0.093\n",
      "epoch 2/2,step500/600,loss = 0.182\n",
      "epoch 2/2,step600/600,loss = 0.149\n"
     ]
    }
   ],
   "metadata": {}
  },
  {
   "cell_type": "code",
   "execution_count": 29,
   "source": [
    "labs = []\r\n",
    "preds = []\r\n",
    "with torch.no_grad():\r\n",
    "    n_correct = 0\r\n",
    "    n_samples = 0\r\n",
    "    for images, labels in test_loader:\r\n",
    "        images = images.reshape(-1,28*28).to(device)\r\n",
    "        labels = labels.to(device)\r\n",
    "        outputs = model(images)\r\n",
    "        # value, index will return\r\n",
    "        _, predictions = torch.max(outputs.data,1)\r\n",
    "        n_samples += labels.shape[0]\r\n",
    "        n_correct += (predictions == labels).sum().item()\r\n",
    "        \r\n",
    "        class_prediction = [nn.functional.softmax(output,dim = 0) for output in outputs]\r\n",
    "        preds.append(class_prediction)    \r\n",
    "        labs.append(predictions)\r\n",
    "    labs = torch.cat(labs).to(device)\r\n",
    "    preds = torch.cat([torch.stack(batch) for batch in preds]).to(device)\r\n",
    "    \r\n",
    "    \r\n",
    "    acc = 100.0 * n_correct/n_samples\r\n",
    "    print(f'Accuracy of the network on the 10000 test images: {acc} %')\r\n",
    "    classes = range(10)\r\n",
    "    for i in classes: \r\n",
    "        labs_i = labs == i\r\n",
    "        preds_i = preds[:,i]\r\n",
    "        writer.add_pr_curve(str(i), labs_i, preds_i, global_step=0)\r\n",
    "    writer.close()"
   ],
   "outputs": [
    {
     "output_type": "stream",
     "name": "stdout",
     "text": [
      "Accuracy of the network on the 10000 test images: 96.57 %\n"
     ]
    }
   ],
   "metadata": {}
  }
 ],
 "metadata": {
  "orig_nbformat": 4,
  "language_info": {
   "name": "python",
   "version": "3.9.6",
   "mimetype": "text/x-python",
   "codemirror_mode": {
    "name": "ipython",
    "version": 3
   },
   "pygments_lexer": "ipython3",
   "nbconvert_exporter": "python",
   "file_extension": ".py"
  },
  "kernelspec": {
   "name": "python3",
   "display_name": "Python 3.9.6 64-bit"
  },
  "interpreter": {
   "hash": "9264711d228fe35bbbcc49f95b90edfc376310506fc14cf04059be83b6263525"
  }
 },
 "nbformat": 4,
 "nbformat_minor": 2
}