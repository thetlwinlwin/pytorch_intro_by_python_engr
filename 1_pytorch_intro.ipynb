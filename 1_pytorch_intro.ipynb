{
 "cells": [
  {
   "cell_type": "code",
   "execution_count": 2,
   "source": [
    "%config IPCompleter.greedy=True"
   ],
   "outputs": [],
   "metadata": {}
  },
  {
   "cell_type": "code",
   "execution_count": 3,
   "source": [
    "import torch"
   ],
   "outputs": [],
   "metadata": {}
  },
  {
   "cell_type": "markdown",
   "source": [
    "<span style='color:cyan'>To check my laptop graphic card can use cuda cores.</span>"
   ],
   "metadata": {}
  },
  {
   "cell_type": "code",
   "execution_count": 4,
   "source": [
    "torch.cuda.is_available()"
   ],
   "outputs": [
    {
     "output_type": "execute_result",
     "data": {
      "text/plain": [
       "True"
      ]
     },
     "metadata": {},
     "execution_count": 4
    }
   ],
   "metadata": {}
  },
  {
   "cell_type": "code",
   "execution_count": 5,
   "source": [
    "#2 by 3 matrices\r\n",
    "x = torch.empty(2,3,dtype=torch.float16)\r\n",
    "y = torch.zeros(2,3)\r\n",
    "print(x)\r\n",
    "print(y)\r\n",
    "print(f'the size of the tensor \"x\" is {x.size()}')"
   ],
   "outputs": [
    {
     "output_type": "stream",
     "name": "stdout",
     "text": [
      "tensor([[ 1.8477e-06,  0.0000e+00,  0.0000e+00],\n",
      "        [ 0.0000e+00, -3.4766e-01,  4.1779e-02]], dtype=torch.float16)\n",
      "tensor([[0., 0., 0.],\n",
      "        [0., 0., 0.]])\n",
      "the size of the tensor \"x\" is torch.Size([2, 3])\n"
     ]
    }
   ],
   "metadata": {}
  },
  {
   "cell_type": "code",
   "execution_count": 6,
   "source": [
    "x = torch.Tensor([2.5,0.1])\r\n",
    "print(x)"
   ],
   "outputs": [
    {
     "output_type": "stream",
     "name": "stdout",
     "text": [
      "tensor([2.5000, 0.1000])\n"
     ]
    }
   ],
   "metadata": {}
  },
  {
   "cell_type": "markdown",
   "source": [
    "## <span style='color:rgb(127, 255, 212)'>  OPEARATIONS </span>"
   ],
   "metadata": {}
  },
  {
   "cell_type": "code",
   "execution_count": 7,
   "source": [
    "x = torch.rand(2,2)\r\n",
    "y = torch.rand(2,2)\r\n",
    "print(f'x is \\n {x}')\r\n",
    "print(f'y is \\n {y}')"
   ],
   "outputs": [
    {
     "output_type": "stream",
     "name": "stdout",
     "text": [
      "x is \n",
      " tensor([[0.7444, 0.4086],\n",
      "        [0.0065, 0.7838]])\n",
      "y is \n",
      " tensor([[0.7209, 0.5976],\n",
      "        [0.1657, 0.3635]])\n"
     ]
    }
   ],
   "metadata": {}
  },
  {
   "cell_type": "code",
   "execution_count": 8,
   "source": [
    "print(x + y)"
   ],
   "outputs": [
    {
     "output_type": "stream",
     "name": "stdout",
     "text": [
      "tensor([[1.4653, 1.0062],\n",
      "        [0.1722, 1.1472]])\n"
     ]
    }
   ],
   "metadata": {}
  },
  {
   "cell_type": "markdown",
   "source": [
    "### <span style='color:cyan'> EVERY FUNCTION THAT HAS A TRAILING UNDERSCORE WILL DO IN PLACE OPERATION.</span> \r\n",
    "<span style='color:cyan'>Below example, the original 'y' is replaced by the value of x + y</span>"
   ],
   "metadata": {}
  },
  {
   "cell_type": "code",
   "execution_count": 9,
   "source": [
    "y.add_(x)\r\n",
    "print(y)"
   ],
   "outputs": [
    {
     "output_type": "stream",
     "name": "stdout",
     "text": [
      "tensor([[1.4653, 1.0062],\n",
      "        [0.1722, 1.1472]])\n"
     ]
    }
   ],
   "metadata": {}
  },
  {
   "cell_type": "code",
   "execution_count": 10,
   "source": [
    "x = torch.rand(5,3)\r\n",
    "print(x)\r\n",
    "print(f\"all rows from column 1 {x[:,0]}\")"
   ],
   "outputs": [
    {
     "output_type": "stream",
     "name": "stdout",
     "text": [
      "tensor([[0.3118, 0.6530, 0.1062],\n",
      "        [0.6821, 0.4422, 0.5395],\n",
      "        [0.0651, 0.0719, 0.2088],\n",
      "        [0.3862, 0.6078, 0.1928],\n",
      "        [0.5752, 0.1294, 0.0802]])\n",
      "all rows from column 1 tensor([0.3118, 0.6821, 0.0651, 0.3862, 0.5752])\n"
     ]
    }
   ],
   "metadata": {}
  },
  {
   "cell_type": "code",
   "execution_count": 11,
   "source": [
    "print(f'2nd row from all column {x[1,:]}')"
   ],
   "outputs": [
    {
     "output_type": "stream",
     "name": "stdout",
     "text": [
      "2nd row from all column tensor([0.6821, 0.4422, 0.5395])\n"
     ]
    }
   ],
   "metadata": {}
  },
  {
   "cell_type": "markdown",
   "source": [
    "<span style='color:cyan'>item() method can only be used if you want single element</span>"
   ],
   "metadata": {}
  },
  {
   "cell_type": "code",
   "execution_count": 12,
   "source": [
    "print(f'only element at 2X2 {x[1,1].item()}')"
   ],
   "outputs": [
    {
     "output_type": "stream",
     "name": "stdout",
     "text": [
      "only element at 2X2 0.4422146677970886\n"
     ]
    }
   ],
   "metadata": {}
  },
  {
   "cell_type": "code",
   "execution_count": 13,
   "source": [
    "x = torch.rand(4,4)\r\n",
    "print(x)"
   ],
   "outputs": [
    {
     "output_type": "stream",
     "name": "stdout",
     "text": [
      "tensor([[0.1212, 0.9029, 0.0104, 0.8394],\n",
      "        [0.5088, 0.7336, 0.4365, 0.7740],\n",
      "        [0.3133, 0.0312, 0.7634, 0.7447],\n",
      "        [0.8001, 0.6886, 0.9551, 0.3031]])\n"
     ]
    }
   ],
   "metadata": {}
  },
  {
   "cell_type": "code",
   "execution_count": 14,
   "source": [
    "y = x.view(16)\r\n",
    "print(y)\r\n",
    "print(f'x reshape into size of {y.size()}')"
   ],
   "outputs": [
    {
     "output_type": "stream",
     "name": "stdout",
     "text": [
      "tensor([0.1212, 0.9029, 0.0104, 0.8394, 0.5088, 0.7336, 0.4365, 0.7740, 0.3133,\n",
      "        0.0312, 0.7634, 0.7447, 0.8001, 0.6886, 0.9551, 0.3031])\n",
      "x reshape into size of torch.Size([16])\n"
     ]
    }
   ],
   "metadata": {}
  },
  {
   "cell_type": "markdown",
   "source": [
    "<span style='color:cyan'>pytorch will automatically give you the size when reshaping</span>"
   ],
   "metadata": {}
  },
  {
   "cell_type": "code",
   "execution_count": 15,
   "source": [
    "y = x.view(-1,8) # or (2,8)\r\n",
    "print(y)\r\n",
    "print(f'size is now {y.size()}')"
   ],
   "outputs": [
    {
     "output_type": "stream",
     "name": "stdout",
     "text": [
      "tensor([[0.1212, 0.9029, 0.0104, 0.8394, 0.5088, 0.7336, 0.4365, 0.7740],\n",
      "        [0.3133, 0.0312, 0.7634, 0.7447, 0.8001, 0.6886, 0.9551, 0.3031]])\n",
      "size is now torch.Size([2, 8])\n"
     ]
    }
   ],
   "metadata": {}
  },
  {
   "cell_type": "code",
   "execution_count": 16,
   "source": [
    "import numpy as np\r\n"
   ],
   "outputs": [],
   "metadata": {}
  },
  {
   "cell_type": "code",
   "execution_count": 17,
   "source": [
    "a = torch.ones(5)\r\n",
    "print(a)"
   ],
   "outputs": [
    {
     "output_type": "stream",
     "name": "stdout",
     "text": [
      "tensor([1., 1., 1., 1., 1.])\n"
     ]
    }
   ],
   "metadata": {}
  },
  {
   "cell_type": "markdown",
   "source": [
    "## <span style= 'color:cyan'>Changing tensor into numpy arrays</span>"
   ],
   "metadata": {}
  },
  {
   "cell_type": "code",
   "execution_count": 18,
   "source": [
    "b = a.numpy()\r\n",
    "print(b)\r\n",
    "print(f'type of b is {type(b)}') "
   ],
   "outputs": [
    {
     "output_type": "stream",
     "name": "stdout",
     "text": [
      "[1. 1. 1. 1. 1.]\n",
      "type of b is <class 'numpy.ndarray'>\n"
     ]
    }
   ],
   "metadata": {}
  },
  {
   "cell_type": "markdown",
   "source": [
    "# <span style='color:cyan'>if the tensor or numpy array is not on the gpu, the object will share same memory location</span>\r\n",
    "**if we change a, the changes will apply to b.** "
   ],
   "metadata": {}
  },
  {
   "cell_type": "code",
   "execution_count": 19,
   "source": [
    "a.add_(1)\r\n",
    "print(f'a is {a}')\r\n",
    "print(f'b is {b}') # modify a will also modify b"
   ],
   "outputs": [
    {
     "output_type": "stream",
     "name": "stdout",
     "text": [
      "a is tensor([2., 2., 2., 2., 2.])\n",
      "b is [2. 2. 2. 2. 2.]\n"
     ]
    }
   ],
   "metadata": {}
  },
  {
   "cell_type": "markdown",
   "source": [
    "### <span style='color:cyan'> Below code is to work around the same memory pointer problem</span>"
   ],
   "metadata": {}
  },
  {
   "cell_type": "code",
   "execution_count": 20,
   "source": [
    "device = torch.device('cuda')\r\n",
    "if torch.cuda.is_available():\r\n",
    "    # create on gpu\r\n",
    "    x = torch.ones(5,device=device)\r\n",
    "    \r\n",
    "    # or create tensor and then move to gpu\r\n",
    "    y = torch.ones(5)\r\n",
    "    y = y.to(device)\r\n",
    "    z = x + y\r\n",
    "print(f'z is {z}')"
   ],
   "outputs": [
    {
     "output_type": "stream",
     "name": "stdout",
     "text": [
      "z is tensor([2., 2., 2., 2., 2.], device='cuda:0')\n"
     ]
    }
   ],
   "metadata": {}
  },
  {
   "cell_type": "markdown",
   "source": [
    "## <span style='color:cyan'>numpy can only handle cpu tensor</span>\r\n",
    "**if you want to change the gpu tensor to numpy array, that tensor needs to converted back to cpu tensor as below**"
   ],
   "metadata": {}
  },
  {
   "cell_type": "code",
   "execution_count": 21,
   "source": [
    "z_numpy = z.to('cpu').numpy()\r\n",
    "print(f'numpy version of z is {z_numpy}')\r\n"
   ],
   "outputs": [
    {
     "output_type": "stream",
     "name": "stdout",
     "text": [
      "numpy version of z is [2. 2. 2. 2. 2.]\n"
     ]
    }
   ],
   "metadata": {}
  },
  {
   "cell_type": "code",
   "execution_count": 22,
   "source": [
    "z.add_(1)\r\n",
    "print(f'add 1 to z {z}')\r\n",
    "print(f'z_numpy is still the same{z_numpy}')"
   ],
   "outputs": [
    {
     "output_type": "stream",
     "name": "stdout",
     "text": [
      "add 1 to z tensor([3., 3., 3., 3., 3.], device='cuda:0')\n",
      "z_numpy is still the same[2. 2. 2. 2. 2.]\n"
     ]
    }
   ],
   "metadata": {}
  },
  {
   "cell_type": "markdown",
   "source": [
    "# <span style='color:cyan'> AutoGrad Package for gradient Computation</span>"
   ],
   "metadata": {}
  },
  {
   "cell_type": "markdown",
   "source": [
    "### **required_grad = True in tensor creation to make sure that tensor will need to calculate the gradient later in optimization step**"
   ],
   "metadata": {}
  },
  {
   "cell_type": "code",
   "execution_count": 23,
   "source": [
    "x = torch.rand(4,requires_grad=True)\r\n",
    "print(x)"
   ],
   "outputs": [
    {
     "output_type": "stream",
     "name": "stdout",
     "text": [
      "tensor([0.6541, 0.2894, 0.9124, 0.9993], requires_grad=True)\n"
     ]
    }
   ],
   "metadata": {}
  },
  {
   "cell_type": "code",
   "execution_count": 24,
   "source": [
    "y = x + 2\r\n",
    "print(y)"
   ],
   "outputs": [
    {
     "output_type": "stream",
     "name": "stdout",
     "text": [
      "tensor([2.6541, 2.2894, 2.9124, 2.9993], grad_fn=<AddBackward0>)\n"
     ]
    }
   ],
   "metadata": {}
  },
  {
   "cell_type": "markdown",
   "source": [
    "### <span style='color:cyan'> this is what a graph looks like</span>"
   ],
   "metadata": {}
  },
  {
   "cell_type": "markdown",
   "source": [
    "![image info](computation_graph.png)"
   ],
   "metadata": {}
  },
  {
   "cell_type": "code",
   "execution_count": 25,
   "source": [
    "z = y * y * 2\r\n",
    "print(z)    # multiplication backward\r\n",
    " "
   ],
   "outputs": [
    {
     "output_type": "stream",
     "name": "stdout",
     "text": [
      "tensor([14.0883, 10.4829, 16.9636, 17.9919], grad_fn=<MulBackward0>)\n"
     ]
    }
   ],
   "metadata": {}
  },
  {
   "cell_type": "code",
   "execution_count": 26,
   "source": [
    "z = z.mean()\r\n",
    "print(z)        # mean backward\r\n",
    "z.backward()    # dz/dx\r\n",
    "print(f'gradient is {x.grad}')   # x.grad looks like the variable y."
   ],
   "outputs": [
    {
     "output_type": "stream",
     "name": "stdout",
     "text": [
      "tensor(14.8817, grad_fn=<MeanBackward0>)\n",
      "gradient is tensor([2.6541, 2.2894, 2.9124, 2.9993])\n"
     ]
    }
   ],
   "metadata": {}
  },
  {
   "cell_type": "markdown",
   "source": [
    "## <span style='color:cyan'>variable 'z' in above cell is scalar which has single value. That's why z.backward() works. If z is not scalar, backward will give you error as below</span>"
   ],
   "metadata": {}
  },
  {
   "cell_type": "code",
   "execution_count": 27,
   "source": [
    "z = y*y*2\r\n",
    "print(f'z has more than one value {z}\\n')\r\n",
    "try:\r\n",
    "    z.backward()\r\n",
    "except RuntimeError as e:\r\n",
    "    print(f'Error => {e}')"
   ],
   "outputs": [
    {
     "output_type": "stream",
     "name": "stdout",
     "text": [
      "z has more than one value tensor([14.0883, 10.4829, 16.9636, 17.9919], grad_fn=<MulBackward0>)\n",
      "\n",
      "Error => grad can be implicitly created only for scalar outputs\n"
     ]
    }
   ],
   "metadata": {}
  },
  {
   "cell_type": "markdown",
   "source": [
    "## <span style = 'color:cyan'>If variable is not a scalar, 'backward()' needs to take a vector. The size of column vector must be equal to the size of variable.</span>"
   ],
   "metadata": {
    "tags": []
   }
  },
  {
   "cell_type": "code",
   "execution_count": 28,
   "source": [
    "vector = torch.tensor([0.1,1.0,0.001,1],dtype = torch.float32)\r\n",
    "print(f'the size of vector is {vector.size()}')\r\n",
    "print(f'the size of \"z\" is {z.size()}')\r\n",
    "z.backward(vector)     #dz/dx\r\n",
    "print(x.grad)"
   ],
   "outputs": [
    {
     "output_type": "stream",
     "name": "stdout",
     "text": [
      "the size of vector is torch.Size([4])\n",
      "the size of \"z\" is torch.Size([4])\n",
      "tensor([ 3.7157, 11.4471,  2.9240, 14.9966])\n"
     ]
    }
   ],
   "metadata": {
    "tags": []
   }
  },
  {
   "cell_type": "markdown",
   "source": [
    "# <span style='color:cyan'>When in the training and we want to update the weight,that updating should not be part of the gradient.</span>\r\n",
    "## So, we need to freeze it."
   ],
   "metadata": {}
  },
  {
   "cell_type": "markdown",
   "source": [
    "### option 1"
   ],
   "metadata": {
    "tags": []
   }
  },
  {
   "cell_type": "code",
   "execution_count": 29,
   "source": [
    "x = torch.randn(3,requires_grad = True)\r\n",
    "print(x)\r\n",
    "x.requires_grad_(False)\r\n",
    "print(x)"
   ],
   "outputs": [
    {
     "output_type": "stream",
     "name": "stdout",
     "text": [
      "tensor([-0.4487, -0.1933, -0.4826], requires_grad=True)\n",
      "tensor([-0.4487, -0.1933, -0.4826])\n"
     ]
    }
   ],
   "metadata": {}
  },
  {
   "cell_type": "markdown",
   "source": [
    "### option 2"
   ],
   "metadata": {
    "tags": []
   }
  },
  {
   "cell_type": "code",
   "execution_count": 30,
   "source": [
    "x = torch.randn(3,requires_grad = True)\r\n",
    "print(x)\r\n",
    "y = x.detach()\r\n",
    "print(y)"
   ],
   "outputs": [
    {
     "output_type": "stream",
     "name": "stdout",
     "text": [
      "tensor([-0.1669, -1.5944,  1.0159], requires_grad=True)\n",
      "tensor([-0.1669, -1.5944,  1.0159])\n"
     ]
    }
   ],
   "metadata": {}
  },
  {
   "cell_type": "markdown",
   "source": [
    "### option 3"
   ],
   "metadata": {}
  },
  {
   "cell_type": "markdown",
   "source": [
    "## <span style='color:cyan'>The wrapper with torch.no_grad() temporarily sets all of the requires_grad flags to false.</span>"
   ],
   "metadata": {}
  },
  {
   "cell_type": "code",
   "execution_count": 31,
   "source": [
    "x = torch.randn(3, requires_grad=True)\r\n",
    "print(x.requires_grad)\r\n",
    "print((x ** 2).requires_grad)\r\n",
    "\r\n",
    "with torch.no_grad():\r\n",
    "    print((x ** 2).requires_grad)"
   ],
   "outputs": [
    {
     "output_type": "stream",
     "name": "stdout",
     "text": [
      "True\n",
      "True\n",
      "False\n"
     ]
    }
   ],
   "metadata": {}
  },
  {
   "cell_type": "markdown",
   "source": [
    "## **<span style='color:cyan'>Whenever we call the backward method, the gradient for the tensor will be accumlated into '.grad' attribute. Their values will be summed up.</span>**"
   ],
   "metadata": {}
  },
  {
   "cell_type": "code",
   "execution_count": 32,
   "source": [
    "weights = torch.ones(4,requires_grad = True)\r\n",
    "\r\n",
    "for epoch in range(3):\r\n",
    "    model_output = (weights*3).sum()\r\n",
    "    \r\n",
    "    model_output.backward()\r\n",
    "    \r\n",
    "    print(f'for {epoch} iteration {weights.grad}')"
   ],
   "outputs": [
    {
     "output_type": "stream",
     "name": "stdout",
     "text": [
      "for 0 iteration tensor([3., 3., 3., 3.])\n",
      "for 1 iteration tensor([6., 6., 6., 6.])\n",
      "for 2 iteration tensor([9., 9., 9., 9.])\n"
     ]
    }
   ],
   "metadata": {}
  },
  {
   "cell_type": "markdown",
   "source": [
    "### <span style='color:cyan'>To prevent summing up, the gradients must be empited.</span>\r\n",
    "####  weights.grad.zero_()"
   ],
   "metadata": {}
  },
  {
   "cell_type": "code",
   "execution_count": 33,
   "source": [
    "weights = torch.ones(4,requires_grad = True)\r\n",
    "\r\n",
    "for epoch in range(3):\r\n",
    "    model_output = (weights*3).sum()\r\n",
    "    \r\n",
    "    model_output.backward()\r\n",
    "    print(f'for {epoch} iteration {weights.grad}')\r\n",
    "    \r\n",
    "    weights.grad.zero_()"
   ],
   "outputs": [
    {
     "output_type": "stream",
     "name": "stdout",
     "text": [
      "for 0 iteration tensor([3., 3., 3., 3.])\n",
      "for 1 iteration tensor([3., 3., 3., 3.])\n",
      "for 2 iteration tensor([3., 3., 3., 3.])\n"
     ]
    }
   ],
   "metadata": {}
  },
  {
   "cell_type": "code",
   "execution_count": 34,
   "source": [
    "# the above code will be equal to this when we use one of the\r\n",
    "# torch optimizer.\r\n",
    "\r\n",
    "optimizer = torch.optim.SGD(weights,lr = 0.01)\r\n",
    "optimizer.step()\r\n",
    "optimizer.zero_grad()"
   ],
   "outputs": [
    {
     "output_type": "error",
     "ename": "TypeError",
     "evalue": "params argument given to the optimizer should be an iterable of Tensors or dicts, but got torch.FloatTensor",
     "traceback": [
      "\u001b[1;31m---------------------------------------------------------------------------\u001b[0m",
      "\u001b[1;31mTypeError\u001b[0m                                 Traceback (most recent call last)",
      "\u001b[1;32m~\\AppData\\Local\\Temp/ipykernel_11292/1473315334.py\u001b[0m in \u001b[0;36m<module>\u001b[1;34m\u001b[0m\n\u001b[0;32m      2\u001b[0m \u001b[1;31m# torch optimizer.\u001b[0m\u001b[1;33m\u001b[0m\u001b[1;33m\u001b[0m\u001b[1;33m\u001b[0m\u001b[0m\n\u001b[0;32m      3\u001b[0m \u001b[1;33m\u001b[0m\u001b[0m\n\u001b[1;32m----> 4\u001b[1;33m \u001b[0moptimizer\u001b[0m \u001b[1;33m=\u001b[0m \u001b[0mtorch\u001b[0m\u001b[1;33m.\u001b[0m\u001b[0moptim\u001b[0m\u001b[1;33m.\u001b[0m\u001b[0mSGD\u001b[0m\u001b[1;33m(\u001b[0m\u001b[0mweights\u001b[0m\u001b[1;33m,\u001b[0m\u001b[0mlr\u001b[0m \u001b[1;33m=\u001b[0m \u001b[1;36m0.01\u001b[0m\u001b[1;33m)\u001b[0m\u001b[1;33m\u001b[0m\u001b[1;33m\u001b[0m\u001b[0m\n\u001b[0m\u001b[0;32m      5\u001b[0m \u001b[0moptimizer\u001b[0m\u001b[1;33m.\u001b[0m\u001b[0mstep\u001b[0m\u001b[1;33m(\u001b[0m\u001b[1;33m)\u001b[0m\u001b[1;33m\u001b[0m\u001b[1;33m\u001b[0m\u001b[0m\n\u001b[0;32m      6\u001b[0m \u001b[0moptimizer\u001b[0m\u001b[1;33m.\u001b[0m\u001b[0mzero_grad\u001b[0m\u001b[1;33m(\u001b[0m\u001b[1;33m)\u001b[0m\u001b[1;33m\u001b[0m\u001b[1;33m\u001b[0m\u001b[0m\n",
      "\u001b[1;32m~\\AppData\\Local\\Programs\\Python\\Python39\\lib\\site-packages\\torch\\optim\\sgd.py\u001b[0m in \u001b[0;36m__init__\u001b[1;34m(self, params, lr, momentum, dampening, weight_decay, nesterov)\u001b[0m\n\u001b[0;32m     67\u001b[0m         \u001b[1;32mif\u001b[0m \u001b[0mnesterov\u001b[0m \u001b[1;32mand\u001b[0m \u001b[1;33m(\u001b[0m\u001b[0mmomentum\u001b[0m \u001b[1;33m<=\u001b[0m \u001b[1;36m0\u001b[0m \u001b[1;32mor\u001b[0m \u001b[0mdampening\u001b[0m \u001b[1;33m!=\u001b[0m \u001b[1;36m0\u001b[0m\u001b[1;33m)\u001b[0m\u001b[1;33m:\u001b[0m\u001b[1;33m\u001b[0m\u001b[1;33m\u001b[0m\u001b[0m\n\u001b[0;32m     68\u001b[0m             \u001b[1;32mraise\u001b[0m \u001b[0mValueError\u001b[0m\u001b[1;33m(\u001b[0m\u001b[1;34m\"Nesterov momentum requires a momentum and zero dampening\"\u001b[0m\u001b[1;33m)\u001b[0m\u001b[1;33m\u001b[0m\u001b[1;33m\u001b[0m\u001b[0m\n\u001b[1;32m---> 69\u001b[1;33m         \u001b[0msuper\u001b[0m\u001b[1;33m(\u001b[0m\u001b[0mSGD\u001b[0m\u001b[1;33m,\u001b[0m \u001b[0mself\u001b[0m\u001b[1;33m)\u001b[0m\u001b[1;33m.\u001b[0m\u001b[0m__init__\u001b[0m\u001b[1;33m(\u001b[0m\u001b[0mparams\u001b[0m\u001b[1;33m,\u001b[0m \u001b[0mdefaults\u001b[0m\u001b[1;33m)\u001b[0m\u001b[1;33m\u001b[0m\u001b[1;33m\u001b[0m\u001b[0m\n\u001b[0m\u001b[0;32m     70\u001b[0m \u001b[1;33m\u001b[0m\u001b[0m\n\u001b[0;32m     71\u001b[0m     \u001b[1;32mdef\u001b[0m \u001b[0m__setstate__\u001b[0m\u001b[1;33m(\u001b[0m\u001b[0mself\u001b[0m\u001b[1;33m,\u001b[0m \u001b[0mstate\u001b[0m\u001b[1;33m)\u001b[0m\u001b[1;33m:\u001b[0m\u001b[1;33m\u001b[0m\u001b[1;33m\u001b[0m\u001b[0m\n",
      "\u001b[1;32m~\\AppData\\Local\\Programs\\Python\\Python39\\lib\\site-packages\\torch\\optim\\optimizer.py\u001b[0m in \u001b[0;36m__init__\u001b[1;34m(self, params, defaults)\u001b[0m\n\u001b[0;32m     38\u001b[0m \u001b[1;33m\u001b[0m\u001b[0m\n\u001b[0;32m     39\u001b[0m         \u001b[1;32mif\u001b[0m \u001b[0misinstance\u001b[0m\u001b[1;33m(\u001b[0m\u001b[0mparams\u001b[0m\u001b[1;33m,\u001b[0m \u001b[0mtorch\u001b[0m\u001b[1;33m.\u001b[0m\u001b[0mTensor\u001b[0m\u001b[1;33m)\u001b[0m\u001b[1;33m:\u001b[0m\u001b[1;33m\u001b[0m\u001b[1;33m\u001b[0m\u001b[0m\n\u001b[1;32m---> 40\u001b[1;33m             raise TypeError(\"params argument given to the optimizer should be \"\n\u001b[0m\u001b[0;32m     41\u001b[0m                             \u001b[1;34m\"an iterable of Tensors or dicts, but got \"\u001b[0m \u001b[1;33m+\u001b[0m\u001b[1;33m\u001b[0m\u001b[1;33m\u001b[0m\u001b[0m\n\u001b[0;32m     42\u001b[0m                             torch.typename(params))\n",
      "\u001b[1;31mTypeError\u001b[0m: params argument given to the optimizer should be an iterable of Tensors or dicts, but got torch.FloatTensor"
     ]
    }
   ],
   "metadata": {}
  },
  {
   "cell_type": "code",
   "execution_count": null,
   "source": [],
   "outputs": [],
   "metadata": {}
  }
 ],
 "metadata": {
  "interpreter": {
   "hash": "9264711d228fe35bbbcc49f95b90edfc376310506fc14cf04059be83b6263525"
  },
  "kernelspec": {
   "name": "python3",
   "display_name": "Python 3.9.6 64-bit"
  },
  "language_info": {
   "codemirror_mode": {
    "name": "ipython",
    "version": 3
   },
   "file_extension": ".py",
   "mimetype": "text/x-python",
   "name": "python",
   "nbconvert_exporter": "python",
   "pygments_lexer": "ipython3",
   "version": "3.9.6"
  }
 },
 "nbformat": 4,
 "nbformat_minor": 4
}