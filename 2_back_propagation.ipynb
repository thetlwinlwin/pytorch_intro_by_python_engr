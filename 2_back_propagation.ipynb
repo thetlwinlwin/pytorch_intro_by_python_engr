{
 "cells": [
  {
   "cell_type": "markdown",
   "source": [
    "![image info](back_propagation/local_gradient.png)"
   ],
   "metadata": {
    "tags": []
   }
  },
  {
   "cell_type": "markdown",
   "source": [
    "to calculate the loss function to minimize the loss w.r.t the input parameters."
   ],
   "metadata": {}
  },
  {
   "cell_type": "markdown",
   "source": [
    "## <span style = 'color:cyan'>There are three computation steps</span>\r\n",
    "* Forward Pass\r\n",
    "* Local Gradients\r\n",
    "* Backward Pass"
   ],
   "metadata": {}
  },
  {
   "cell_type": "markdown",
   "source": [
    "![image info](back_propagation/computation_step_in_neutorn.png)"
   ],
   "metadata": {}
  },
  {
   "cell_type": "markdown",
   "source": [
    "For step 1, we compute the difference between the actual result to computed outcome. (in green letters)"
   ],
   "metadata": {}
  },
  {
   "cell_type": "markdown",
   "source": [
    "For step 2, each local gradients were calculated (in blue letters)"
   ],
   "metadata": {}
  },
  {
   "cell_type": "markdown",
   "source": [
    "For step 3, using the chain rules to get the gradient of the loss w.r.t weight(w)"
   ],
   "metadata": {}
  },
  {
   "cell_type": "markdown",
   "source": [
    "### **Below is the step by step Example without pytorch**\r\n",
    "let's say x = 1, y = 2 and w = 1"
   ],
   "metadata": {}
  },
  {
   "cell_type": "code",
   "execution_count": 6,
   "source": [
    "# FORWARD PASS\r\n",
    "x, y, w = 1, 2, 1\r\n",
    "y_hat = x * w\r\n",
    "s = y_hat - y\r\n",
    "loss = s**2\r\n",
    "print(f'loss from forward pass is {loss}')"
   ],
   "outputs": [
    {
     "output_type": "stream",
     "name": "stdout",
     "text": [
      "loss from forward pass is 1\n"
     ]
    }
   ],
   "metadata": {}
  },
  {
   "cell_type": "code",
   "execution_count": 9,
   "source": [
    "# LOCAL GRADIENT\r\n",
    "\r\n",
    "# dLoss/ds = ds**2/ds = 2s\r\n",
    "# ds/dy_hat = d(y_hat - y)/dy_hat = 1\r\n",
    "# dy_hat/dw = d(w*x)/dw = x \r\n",
    "\r\n",
    "dLoss_by_ds = 2*s\r\n",
    "ds_by_dy_hat = 1\r\n",
    "dy_hat_by_dw = x\r\n"
   ],
   "outputs": [],
   "metadata": {}
  },
  {
   "cell_type": "markdown",
   "source": [
    "## <span style = 'color:cyan'>The local gradient wrt to x and y are not needed as they are the fixex values</span>"
   ],
   "metadata": {}
  },
  {
   "cell_type": "code",
   "execution_count": 14,
   "source": [
    "# BACKWARD PASS\r\n",
    "\r\n",
    "dLoss_by_dy_hat = dLoss_by_ds * ds_by_dy_hat\r\n",
    "dLoss_by_dw = dLoss_by_dy_hat * dy_hat_by_dw\r\n",
    "print(f'The gradient of \"loss\" wrt to weight \"w\" is {dLoss_by_dw}')"
   ],
   "outputs": [
    {
     "output_type": "stream",
     "name": "stdout",
     "text": [
      "The gradient of \"loss\" wrt to weight \"w\" is -2\n"
     ]
    }
   ],
   "metadata": {}
  },
  {
   "cell_type": "markdown",
   "source": [
    "### **Above Example with Pytorch**"
   ],
   "metadata": {}
  },
  {
   "cell_type": "code",
   "execution_count": 29,
   "source": [
    "import torch\r\n",
    "\r\n",
    "# FORWARD PASS\r\n",
    "x = torch.tensor(1.0)\r\n",
    "y = torch.tensor(2.0)\r\n",
    "w = torch.tensor(1.0,requires_grad=True)\r\n",
    "y_hat = x*w\r\n",
    "loss = (y_hat - y)**2\r\n",
    "print(f'loss is {loss}')"
   ],
   "outputs": [
    {
     "output_type": "stream",
     "name": "stdout",
     "text": [
      "loss is 1.0\n"
     ]
    }
   ],
   "metadata": {}
  },
  {
   "cell_type": "code",
   "execution_count": 30,
   "source": [
    "# BACKWARD PASS\r\n",
    "loss.backward()\r\n",
    "print(f'gradient of the loss wrt to \"w\" is {w.grad}')"
   ],
   "outputs": [
    {
     "output_type": "stream",
     "name": "stdout",
     "text": [
      "gradient of the loss wrt to \"w\" is -2.0\n"
     ]
    }
   ],
   "metadata": {}
  },
  {
   "cell_type": "markdown",
   "source": [
    "## <span style = 'color:cyan'> UPDATE THE WEIGHT AND REDO THE PROCESS</span>\r\n",
    "\r\n"
   ],
   "metadata": {}
  }
 ],
 "metadata": {
  "kernelspec": {
   "name": "python3",
   "display_name": "Python 3.9.6 64-bit"
  },
  "language_info": {
   "codemirror_mode": {
    "name": "ipython",
    "version": 3
   },
   "file_extension": ".py",
   "mimetype": "text/x-python",
   "name": "python",
   "nbconvert_exporter": "python",
   "pygments_lexer": "ipython3",
   "version": "3.9.6"
  },
  "interpreter": {
   "hash": "9264711d228fe35bbbcc49f95b90edfc376310506fc14cf04059be83b6263525"
  }
 },
 "nbformat": 4,
 "nbformat_minor": 5
}