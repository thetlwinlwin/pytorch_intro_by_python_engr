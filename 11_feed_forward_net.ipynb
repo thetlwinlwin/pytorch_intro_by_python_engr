{
 "cells": [
  {
   "cell_type": "code",
   "execution_count": 1,
   "source": [
    "import torch\r\n",
    "import torch.nn as nn\r\n",
    "import torchvision\r\n",
    "import torchvision.transforms as transforms\r\n",
    "import matplotlib.pyplot as plt"
   ],
   "outputs": [],
   "metadata": {}
  },
  {
   "cell_type": "code",
   "execution_count": 2,
   "source": [
    "device = torch.device('cuda' if torch.cuda.is_available() else 'cpu')"
   ],
   "outputs": [],
   "metadata": {}
  },
  {
   "cell_type": "code",
   "execution_count": 3,
   "source": [
    "input_size = 784 #28x28 pixels\r\n",
    "hidden_size = 500  # can try differnet size\r\n",
    "num_classes = 10 # classification of '0 to 9'\r\n",
    "num_epochs = 2\r\n",
    "batch_size = 100 \r\n",
    "learning_rate = 0.001"
   ],
   "outputs": [],
   "metadata": {}
  },
  {
   "cell_type": "code",
   "execution_count": 4,
   "source": [
    "train_dataset = torchvision.datasets.MNIST(root='./feed_forward_net',train = True,transform=transforms.ToTensor(),download = True)\r\n",
    "test_dataset = torchvision.datasets.MNIST(root='./feed_forward_net',train = False,transform=transforms.ToTensor())\r\n",
    "\r\n",
    "print(f'total training dataset is {train_dataset.data.shape}')"
   ],
   "outputs": [
    {
     "output_type": "stream",
     "name": "stdout",
     "text": [
      "total training dataset is torch.Size([60000, 28, 28])\n"
     ]
    },
    {
     "output_type": "stream",
     "name": "stderr",
     "text": [
      "C:\\Users\\msi\\AppData\\Local\\Programs\\Python\\Python39\\lib\\site-packages\\torchvision\\datasets\\mnist.py:498: UserWarning: The given NumPy array is not writeable, and PyTorch does not support non-writeable tensors. This means you can write to the underlying (supposedly non-writeable) NumPy array using the tensor. You may want to copy the array to protect its data or make it writeable before converting it to a tensor. This type of warning will be suppressed for the rest of this program. (Triggered internally at  ..\\torch\\csrc\\utils\\tensor_numpy.cpp:180.)\n",
      "  return torch.from_numpy(parsed.astype(m[2], copy=False)).view(*s)\n"
     ]
    }
   ],
   "metadata": {}
  },
  {
   "cell_type": "code",
   "execution_count": 5,
   "source": [
    "train_loader = torch.utils.data.DataLoader(dataset = train_dataset,batch_size=batch_size,shuffle=True)\r\n",
    "\r\n",
    "test_loader = torch.utils.data.DataLoader(dataset = test_dataset,batch_size=batch_size,shuffle=False)\r\n",
    "\r\n",
    "examples = iter(train_loader)\r\n",
    "samples, labels = next(examples)\r\n",
    "print(samples.shape, labels.shape)"
   ],
   "outputs": [
    {
     "output_type": "stream",
     "name": "stdout",
     "text": [
      "torch.Size([100, 1, 28, 28]) torch.Size([100])\n"
     ]
    }
   ],
   "metadata": {}
  },
  {
   "cell_type": "markdown",
   "source": [
    "## This dataset is photo dataset.That's why it has three dimension.\r\n",
    "## [100, 1, 28, 28] means batch_size has 100 samples.\r\n",
    "## As it is grey scales, color channel is 1.\r\n",
    "## 28x28 is pixel size.\r\n"
   ],
   "metadata": {}
  },
  {
   "cell_type": "code",
   "execution_count": 6,
   "source": [
    "for i in range(6):\r\n",
    "    plt.subplot(2,3,i+1)\r\n",
    "    #samples[0] will give 3d image. with color channel grey scale.\r\n",
    "    #instead of plotting 3d, we can use 2d which is 28x28 with 'plt.imshow' with gray scale.\r\n",
    "    plt.imshow(samples[i][0],cmap='gray')\r\n",
    "plt.show()"
   ],
   "outputs": [
    {
     "output_type": "display_data",
     "data": {
      "text/plain": [
       "<Figure size 432x288 with 6 Axes>"
      ],
      "image/svg+xml": "<?xml version=\"1.0\" encoding=\"utf-8\" standalone=\"no\"?>\r\n<!DOCTYPE svg PUBLIC \"-//W3C//DTD SVG 1.1//EN\"\r\n  \"http://www.w3.org/Graphics/SVG/1.1/DTD/svg11.dtd\">\r\n<svg height=\"250.193165pt\" version=\"1.1\" viewBox=\"0 0 368.925 250.193165\" width=\"368.925pt\" xmlns=\"http://www.w3.org/2000/svg\" xmlns:xlink=\"http://www.w3.org/1999/xlink\">\r\n <metadata>\r\n  <rdf:RDF xmlns:cc=\"http://creativecommons.org/ns#\" xmlns:dc=\"http://purl.org/dc/elements/1.1/\" xmlns:rdf=\"http://www.w3.org/1999/02/22-rdf-syntax-ns#\">\r\n   <cc:Work>\r\n    <dc:type rdf:resource=\"http://purl.org/dc/dcmitype/StillImage\"/>\r\n    <dc:date>2021-08-30T15:01:42.237851</dc:date>\r\n    <dc:format>image/svg+xml</dc:format>\r\n    <dc:creator>\r\n     <cc:Agent>\r\n      <dc:title>Matplotlib v3.4.2, https://matplotlib.org/</dc:title>\r\n     </cc:Agent>\r\n    </dc:creator>\r\n   </cc:Work>\r\n  </rdf:RDF>\r\n </metadata>\r\n <defs>\r\n  <style type=\"text/css\">*{stroke-linecap:butt;stroke-linejoin:round;}</style>\r\n </defs>\r\n <g id=\"figure_1\">\r\n  <g id=\"patch_1\">\r\n   <path d=\"M -0 250.193165 \r\nL 368.925 250.193165 \r\nL 368.925 0 \r\nL -0 0 \r\nz\r\n\" style=\"fill:none;\"/>\r\n  </g>\r\n  <g id=\"axes_1\">\r\n   <g id=\"patch_2\">\r\n    <path d=\"M 26.925 107.711404 \r\nL 125.395588 107.711404 \r\nL 125.395588 9.240815 \r\nL 26.925 9.240815 \r\nz\r\n\" style=\"fill:#ffffff;\"/>\r\n   </g>\r\n   <g clip-path=\"url(#pb79ed6e7d0)\">\r\n    <image height=\"99\" id=\"imagef9d9182db0\" transform=\"scale(1 -1)translate(0 -99)\" width=\"99\" x=\"26.925\" xlink:href=\"data:image/png;base64,\r\niVBORw0KGgoAAAANSUhEUgAAAGMAAABjCAYAAACPO76VAAAE9UlEQVR4nO2dSyi2WxTHNx23PrmWjI0+haKoz6XcryOFkRKSZCADyiWEgWJgREJhYCIDCYmIkJCJ68BACgNCRHI9s/XttTuv834vnvd/Tus3+q/W+7zPzt/ae1vPhYtS6l0JELg6ewDCb8QMIMQMIMQMIMQMIMQMIMQMIMQMIMQMIMQMIP6y4iQuLi6k09LSWG5kZIR0UFAQy93f35OemZlhucPDQ9Ld3d0sd3V15fBYnYlUBhBiBhAuyoKurZ+fH2lzCnl9fSX9/Pxs8zvc3d1Z7Or6+/fo7u6O5dra2ljc1dVl91idiVQGEGIGEGIGEJasGfp2dnZ2luV2dnZIR0VFsZy+nsTHx7NcY2Mj6fT0dJa7vb1lcXZ2Num1tTV7h205UhlAiBlAWDJNFRcXkx4cHLTrc0opNTw8bPOzP378ID0xMcFyycnJLN7Y2CBtdgDMbbEzkcoAQswAQswAwpKurb6dXV1dZbm4uDjSBQUFLDc6OkrabJXoHd3l5WWWM9eMmJgY0oGBgSwna4bwj4gZQFgyTZ2dnZEuLCxkubm5OdJZWVksNzU1RTovL4/l9L+yLy4uPjy/PsUFBwez3PHx8YfHWolUBhBiBhBiBhCWtEM+IikpifT09DTLeXh4kF5YWGC5paUl0rW1tSynt0qUUqq9vZ10U1OT44P9ZqQygBAzgHD6NKVjXlzq7OwkrU9n/4a+JVZKqfz8fNKPj48Oju77kcoAQswAQswAwpJ2iL1sb2+zWL/57E/WjKOjIxbr9/CenJw4OLrvRyoDCDEDCKhpKiAggMX6/U5/QlVVFYtjY2NJZ2RksNzNzY1D5/gOpDKAEDOAEDOAgGqH9Pb2sri8vJz09fU1y1VUVJA2t71FRUUs9vT0JD0wMMBy9fX1pC8vL/9wxF+LVAYQYgYQYgYQTl8zhoaGSOutbqWU8vLyIl1ZWcly5vqiU1NTw+LW1lbS+tVDpZSan58nbV4FXF9ft3mO70AqAwgxAwjLpynzEeLNzU3S4eHhLLe7u0vabGOcn5/bfc6IiAjS/f39LBcdHU3a3NqOjY2RNlssLy8vdp/fXqQygBAzgBAzgLB8zQgJCWGxvi7obQullCopKSGtb4E/Q25uLovHx8ftOq60tJTF+tuA9EekP4NUBhBiBhCWT1NlZWUs7uvrs/lZ/ZGznJwcljPfgmAv5tZav+EtJSXF5nEHBwcsjoyMJP309OTQWEykMoAQM4AQM4CwfM3w8fFh8eTkJOmEhASbxzU3N7PYfNuao7i5uZFuaWlhubq6OtLmuvDz50/SX/VcoFQGEGIGEJbfxGZuSfVnMMLCwljO39+ftHnhR3+cuKOjw+Hx6N+zsrLCcvrUZG6JExMTSX9Vd0AqAwgxAwgxAwin35CgY9743NDQQLq6uprl3t7eSG9tbbHc/v4+i/f29kibNzI8PDyQNt+4oz/n4evry3L61UO98/wZpDKAEDOAgJqmTPR/9fDr1y+W028sCA0Ntfs7T09PWby4uEha78Qqxd/hbm6fe3p6SL+/f82PUCoDCDEDCDEDCOg14yP0/59htlHM9SU1NZV0ZmYmy3l7e5PWWzNK8a6tvpVW6uvWCR2pDCDEDCD+s9PU/xGpDCDEDCDEDCDEDCDEDCDEDCDEDCDEDCDEDCDEDCDEDCDEDCDEDCDEDCDEDCDEDCDEDCD+BtKNS91WRobjAAAAAElFTkSuQmCC\" y=\"-8.711404\"/>\r\n   </g>\r\n   <g id=\"matplotlib.axis_1\">\r\n    <g id=\"xtick_1\">\r\n     <g id=\"line2d_1\">\r\n      <defs>\r\n       <path d=\"M 0 0 \r\nL 0 3.5 \r\n\" id=\"m4776731f20\" style=\"stroke:#000000;stroke-width:0.8;\"/>\r\n      </defs>\r\n      <g>\r\n       <use style=\"stroke:#000000;stroke-width:0.8;\" x=\"28.683403\" xlink:href=\"#m4776731f20\" y=\"107.711404\"/>\r\n      </g>\r\n     </g>\r\n     <g id=\"text_1\">\r\n      <!-- 0 -->\r\n      <g transform=\"translate(25.502153 122.309841)scale(0.1 -0.1)\">\r\n       <defs>\r\n        <path d=\"M 2034 4250 \r\nQ 1547 4250 1301 3770 \r\nQ 1056 3291 1056 2328 \r\nQ 1056 1369 1301 889 \r\nQ 1547 409 2034 409 \r\nQ 2525 409 2770 889 \r\nQ 3016 1369 3016 2328 \r\nQ 3016 3291 2770 3770 \r\nQ 2525 4250 2034 4250 \r\nz\r\nM 2034 4750 \r\nQ 2819 4750 3233 4129 \r\nQ 3647 3509 3647 2328 \r\nQ 3647 1150 3233 529 \r\nQ 2819 -91 2034 -91 \r\nQ 1250 -91 836 529 \r\nQ 422 1150 422 2328 \r\nQ 422 3509 836 4129 \r\nQ 1250 4750 2034 4750 \r\nz\r\n\" id=\"DejaVuSans-30\" transform=\"scale(0.015625)\"/>\r\n       </defs>\r\n       <use xlink:href=\"#DejaVuSans-30\"/>\r\n      </g>\r\n     </g>\r\n    </g>\r\n    <g id=\"xtick_2\">\r\n     <g id=\"line2d_2\">\r\n      <g>\r\n       <use style=\"stroke:#000000;stroke-width:0.8;\" x=\"63.851471\" xlink:href=\"#m4776731f20\" y=\"107.711404\"/>\r\n      </g>\r\n     </g>\r\n     <g id=\"text_2\">\r\n      <!-- 10 -->\r\n      <g transform=\"translate(57.488971 122.309841)scale(0.1 -0.1)\">\r\n       <defs>\r\n        <path d=\"M 794 531 \r\nL 1825 531 \r\nL 1825 4091 \r\nL 703 3866 \r\nL 703 4441 \r\nL 1819 4666 \r\nL 2450 4666 \r\nL 2450 531 \r\nL 3481 531 \r\nL 3481 0 \r\nL 794 0 \r\nL 794 531 \r\nz\r\n\" id=\"DejaVuSans-31\" transform=\"scale(0.015625)\"/>\r\n       </defs>\r\n       <use xlink:href=\"#DejaVuSans-31\"/>\r\n       <use x=\"63.623047\" xlink:href=\"#DejaVuSans-30\"/>\r\n      </g>\r\n     </g>\r\n    </g>\r\n    <g id=\"xtick_3\">\r\n     <g id=\"line2d_3\">\r\n      <g>\r\n       <use style=\"stroke:#000000;stroke-width:0.8;\" x=\"99.019538\" xlink:href=\"#m4776731f20\" y=\"107.711404\"/>\r\n      </g>\r\n     </g>\r\n     <g id=\"text_3\">\r\n      <!-- 20 -->\r\n      <g transform=\"translate(92.657038 122.309841)scale(0.1 -0.1)\">\r\n       <defs>\r\n        <path d=\"M 1228 531 \r\nL 3431 531 \r\nL 3431 0 \r\nL 469 0 \r\nL 469 531 \r\nQ 828 903 1448 1529 \r\nQ 2069 2156 2228 2338 \r\nQ 2531 2678 2651 2914 \r\nQ 2772 3150 2772 3378 \r\nQ 2772 3750 2511 3984 \r\nQ 2250 4219 1831 4219 \r\nQ 1534 4219 1204 4116 \r\nQ 875 4013 500 3803 \r\nL 500 4441 \r\nQ 881 4594 1212 4672 \r\nQ 1544 4750 1819 4750 \r\nQ 2544 4750 2975 4387 \r\nQ 3406 4025 3406 3419 \r\nQ 3406 3131 3298 2873 \r\nQ 3191 2616 2906 2266 \r\nQ 2828 2175 2409 1742 \r\nQ 1991 1309 1228 531 \r\nz\r\n\" id=\"DejaVuSans-32\" transform=\"scale(0.015625)\"/>\r\n       </defs>\r\n       <use xlink:href=\"#DejaVuSans-32\"/>\r\n       <use x=\"63.623047\" xlink:href=\"#DejaVuSans-30\"/>\r\n      </g>\r\n     </g>\r\n    </g>\r\n   </g>\r\n   <g id=\"matplotlib.axis_2\">\r\n    <g id=\"ytick_1\">\r\n     <g id=\"line2d_4\">\r\n      <defs>\r\n       <path d=\"M 0 0 \r\nL -3.5 0 \r\n\" id=\"m57fd1f5cd7\" style=\"stroke:#000000;stroke-width:0.8;\"/>\r\n      </defs>\r\n      <g>\r\n       <use style=\"stroke:#000000;stroke-width:0.8;\" x=\"26.925\" xlink:href=\"#m57fd1f5cd7\" y=\"10.999219\"/>\r\n      </g>\r\n     </g>\r\n     <g id=\"text_4\">\r\n      <!-- 0 -->\r\n      <g transform=\"translate(13.5625 14.798437)scale(0.1 -0.1)\">\r\n       <use xlink:href=\"#DejaVuSans-30\"/>\r\n      </g>\r\n     </g>\r\n    </g>\r\n    <g id=\"ytick_2\">\r\n     <g id=\"line2d_5\">\r\n      <g>\r\n       <use style=\"stroke:#000000;stroke-width:0.8;\" x=\"26.925\" xlink:href=\"#m57fd1f5cd7\" y=\"46.167286\"/>\r\n      </g>\r\n     </g>\r\n     <g id=\"text_5\">\r\n      <!-- 10 -->\r\n      <g transform=\"translate(7.2 49.966505)scale(0.1 -0.1)\">\r\n       <use xlink:href=\"#DejaVuSans-31\"/>\r\n       <use x=\"63.623047\" xlink:href=\"#DejaVuSans-30\"/>\r\n      </g>\r\n     </g>\r\n    </g>\r\n    <g id=\"ytick_3\">\r\n     <g id=\"line2d_6\">\r\n      <g>\r\n       <use style=\"stroke:#000000;stroke-width:0.8;\" x=\"26.925\" xlink:href=\"#m57fd1f5cd7\" y=\"81.335353\"/>\r\n      </g>\r\n     </g>\r\n     <g id=\"text_6\">\r\n      <!-- 20 -->\r\n      <g transform=\"translate(7.2 85.134572)scale(0.1 -0.1)\">\r\n       <use xlink:href=\"#DejaVuSans-32\"/>\r\n       <use x=\"63.623047\" xlink:href=\"#DejaVuSans-30\"/>\r\n      </g>\r\n     </g>\r\n    </g>\r\n   </g>\r\n   <g id=\"patch_3\">\r\n    <path d=\"M 26.925 107.711404 \r\nL 26.925 9.240815 \r\n\" style=\"fill:none;stroke:#000000;stroke-linecap:square;stroke-linejoin:miter;stroke-width:0.8;\"/>\r\n   </g>\r\n   <g id=\"patch_4\">\r\n    <path d=\"M 125.395588 107.711404 \r\nL 125.395588 9.240815 \r\n\" style=\"fill:none;stroke:#000000;stroke-linecap:square;stroke-linejoin:miter;stroke-width:0.8;\"/>\r\n   </g>\r\n   <g id=\"patch_5\">\r\n    <path d=\"M 26.925 107.711404 \r\nL 125.395588 107.711404 \r\n\" style=\"fill:none;stroke:#000000;stroke-linecap:square;stroke-linejoin:miter;stroke-width:0.8;\"/>\r\n   </g>\r\n   <g id=\"patch_6\">\r\n    <path d=\"M 26.925 9.240815 \r\nL 125.395588 9.240815 \r\n\" style=\"fill:none;stroke:#000000;stroke-linecap:square;stroke-linejoin:miter;stroke-width:0.8;\"/>\r\n   </g>\r\n  </g>\r\n  <g id=\"axes_2\">\r\n   <g id=\"patch_7\">\r\n    <path d=\"M 145.089706 107.711404 \r\nL 243.560294 107.711404 \r\nL 243.560294 9.240815 \r\nL 145.089706 9.240815 \r\nz\r\n\" style=\"fill:#ffffff;\"/>\r\n   </g>\r\n   <g clip-path=\"url(#pcf4bc3df93)\">\r\n    <image height=\"99\" id=\"imagea1c88db710\" transform=\"scale(1 -1)translate(0 -99)\" width=\"99\" x=\"145.089706\" xlink:href=\"data:image/png;base64,\r\niVBORw0KGgoAAAANSUhEUgAAAGMAAABjCAYAAACPO76VAAAECklEQVR4nO2dPSh3YRjGH6+vEJEMUjJhMGHxTVhk9JGiKGVQMjBIGAyykVIMykYGKQthUkQmA8VgYpBIka/ybrf7Pu/7/r3+H85Vrt903V1xnrq6n+d4znmOKOfcuyMQ/PJ7AOQDhgEEwwCCYQDBMIBgGEAwDCAYBhAMAwiGAQTDAIJhAMEwgIjxewCB6OjoEN3e3m684uJi0Zubm8abnp429f7+fgRGF37YGUAwDCAYBhBRDuhJ38DAgKknJydFb29vG+/q6kp0amqq8SoqKkzd0NAgGnn9YGcAwTCA8H2ays/PF314eGi8hYUF0f39/cZ7f/8YdlpamvE2NjZMnZKS8tfrocHOAIJhAMEwgPB9OyQzM1N0UlKS8R4eHkTrNcLL7e2tqdfX102tt1WQYWcAwTCA8P3WNjY2VvTo6Kjxuru7RTc3Nxtvd3dXtHd6Ozo6MvXNzY3osrKy4AcbYdgZQDAMIBgGEL7f2r6+vooeHx83XnZ2tmjvrq3e0d3Z2TFebm6uqVtaWkIe53fAzgCCYQDh+61tIOLi4kR3dnYab2ZmRvTT05PxTk5OTK0fNulpEQ12BhAMAwiGAYTvt7aBeHl5Eb24uGi8qqoq0W1tbcY7ODgwNfI6oWFnAMEwgIC+tdWUl5ebWv9FrndlnftzF3dwcFD0/Px8BEYXHtgZQDAMIBgGENC3tomJiaLHxsaMp9eJ0tJS4w0NDZl6YmJCtPflhZWVlZDHGS7YGUAwDCAYBhDQa4b+26K2ttZ4w8PDoi8uLozX19dn6vj4eNFzc3PGOz4+Fn16ehr0WMMBOwMIhgEE1HZIQkKCqdfW1kTrMxbO2V3b5+fngL83PT1d9N7envHOz89F6+NmfsDOAIJhAMEwgIC6tS0qKjJ1XV2d6N7eXuN9tk5o9NaJ94U2fRS5tbXVeMvLy/99jXDAzgCCYQABNU3l5eWZWn8FYWlpKSzX8L7gdnZ2Jrqrq8t4nKZ+MAwDCIYBBNSa0dTUZOqtrS3R3id0wZKcnGxq/SaJPl/oB+wMIBgGEFDTVGFhoan1iwRfISsry9SNjY2i6+vrjac/HNbT0xPU9cIFOwMIhgEEwwACas14e3szdWVlpeipqal//lxNTY2p9RNC55x7fHwU7d3iKCkpEa2f+vkBOwMIhgEE1DTlfe9Vf7QrIyPDeNfX16Krq6uNd3d3Z+qCggLR9/f3IY4ycrAzgGAYQDAMIKDWDO9XdXJyckTrr7I559zl5aXoz76aEx0dHfrgvgF2BhAMAwioacp7hHh1dVX07Oys8fQRs5GREeN5/80PpynyZRgGEAwDCKjzGT8ddgYQDAMIhgEEwwCCYQDBMIBgGEAwDCAYBhAMAwiGAQTDAIJhAPEbQujr6fAm9pUAAAAASUVORK5CYII=\" y=\"-8.711404\"/>\r\n   </g>\r\n   <g id=\"matplotlib.axis_3\">\r\n    <g id=\"xtick_4\">\r\n     <g id=\"line2d_7\">\r\n      <g>\r\n       <use style=\"stroke:#000000;stroke-width:0.8;\" x=\"146.848109\" xlink:href=\"#m4776731f20\" y=\"107.711404\"/>\r\n      </g>\r\n     </g>\r\n     <g id=\"text_7\">\r\n      <!-- 0 -->\r\n      <g transform=\"translate(143.666859 122.309841)scale(0.1 -0.1)\">\r\n       <use xlink:href=\"#DejaVuSans-30\"/>\r\n      </g>\r\n     </g>\r\n    </g>\r\n    <g id=\"xtick_5\">\r\n     <g id=\"line2d_8\">\r\n      <g>\r\n       <use style=\"stroke:#000000;stroke-width:0.8;\" x=\"182.016176\" xlink:href=\"#m4776731f20\" y=\"107.711404\"/>\r\n      </g>\r\n     </g>\r\n     <g id=\"text_8\">\r\n      <!-- 10 -->\r\n      <g transform=\"translate(175.653676 122.309841)scale(0.1 -0.1)\">\r\n       <use xlink:href=\"#DejaVuSans-31\"/>\r\n       <use x=\"63.623047\" xlink:href=\"#DejaVuSans-30\"/>\r\n      </g>\r\n     </g>\r\n    </g>\r\n    <g id=\"xtick_6\">\r\n     <g id=\"line2d_9\">\r\n      <g>\r\n       <use style=\"stroke:#000000;stroke-width:0.8;\" x=\"217.184244\" xlink:href=\"#m4776731f20\" y=\"107.711404\"/>\r\n      </g>\r\n     </g>\r\n     <g id=\"text_9\">\r\n      <!-- 20 -->\r\n      <g transform=\"translate(210.821744 122.309841)scale(0.1 -0.1)\">\r\n       <use xlink:href=\"#DejaVuSans-32\"/>\r\n       <use x=\"63.623047\" xlink:href=\"#DejaVuSans-30\"/>\r\n      </g>\r\n     </g>\r\n    </g>\r\n   </g>\r\n   <g id=\"matplotlib.axis_4\">\r\n    <g id=\"ytick_4\">\r\n     <g id=\"line2d_10\">\r\n      <g>\r\n       <use style=\"stroke:#000000;stroke-width:0.8;\" x=\"145.089706\" xlink:href=\"#m57fd1f5cd7\" y=\"10.999219\"/>\r\n      </g>\r\n     </g>\r\n     <g id=\"text_10\">\r\n      <!-- 0 -->\r\n      <g transform=\"translate(131.727206 14.798437)scale(0.1 -0.1)\">\r\n       <use xlink:href=\"#DejaVuSans-30\"/>\r\n      </g>\r\n     </g>\r\n    </g>\r\n    <g id=\"ytick_5\">\r\n     <g id=\"line2d_11\">\r\n      <g>\r\n       <use style=\"stroke:#000000;stroke-width:0.8;\" x=\"145.089706\" xlink:href=\"#m57fd1f5cd7\" y=\"46.167286\"/>\r\n      </g>\r\n     </g>\r\n     <g id=\"text_11\">\r\n      <!-- 10 -->\r\n      <g transform=\"translate(125.364706 49.966505)scale(0.1 -0.1)\">\r\n       <use xlink:href=\"#DejaVuSans-31\"/>\r\n       <use x=\"63.623047\" xlink:href=\"#DejaVuSans-30\"/>\r\n      </g>\r\n     </g>\r\n    </g>\r\n    <g id=\"ytick_6\">\r\n     <g id=\"line2d_12\">\r\n      <g>\r\n       <use style=\"stroke:#000000;stroke-width:0.8;\" x=\"145.089706\" xlink:href=\"#m57fd1f5cd7\" y=\"81.335353\"/>\r\n      </g>\r\n     </g>\r\n     <g id=\"text_12\">\r\n      <!-- 20 -->\r\n      <g transform=\"translate(125.364706 85.134572)scale(0.1 -0.1)\">\r\n       <use xlink:href=\"#DejaVuSans-32\"/>\r\n       <use x=\"63.623047\" xlink:href=\"#DejaVuSans-30\"/>\r\n      </g>\r\n     </g>\r\n    </g>\r\n   </g>\r\n   <g id=\"patch_8\">\r\n    <path d=\"M 145.089706 107.711404 \r\nL 145.089706 9.240815 \r\n\" style=\"fill:none;stroke:#000000;stroke-linecap:square;stroke-linejoin:miter;stroke-width:0.8;\"/>\r\n   </g>\r\n   <g id=\"patch_9\">\r\n    <path d=\"M 243.560294 107.711404 \r\nL 243.560294 9.240815 \r\n\" style=\"fill:none;stroke:#000000;stroke-linecap:square;stroke-linejoin:miter;stroke-width:0.8;\"/>\r\n   </g>\r\n   <g id=\"patch_10\">\r\n    <path d=\"M 145.089706 107.711404 \r\nL 243.560294 107.711404 \r\n\" style=\"fill:none;stroke:#000000;stroke-linecap:square;stroke-linejoin:miter;stroke-width:0.8;\"/>\r\n   </g>\r\n   <g id=\"patch_11\">\r\n    <path d=\"M 145.089706 9.240815 \r\nL 243.560294 9.240815 \r\n\" style=\"fill:none;stroke:#000000;stroke-linecap:square;stroke-linejoin:miter;stroke-width:0.8;\"/>\r\n   </g>\r\n  </g>\r\n  <g id=\"axes_3\">\r\n   <g id=\"patch_12\">\r\n    <path d=\"M 263.254412 107.711404 \r\nL 361.725 107.711404 \r\nL 361.725 9.240815 \r\nL 263.254412 9.240815 \r\nz\r\n\" style=\"fill:#ffffff;\"/>\r\n   </g>\r\n   <g clip-path=\"url(#p90c09c497e)\">\r\n    <image height=\"99\" id=\"image8df9e3fc57\" transform=\"scale(1 -1)translate(0 -99)\" width=\"99\" x=\"263.254412\" xlink:href=\"data:image/png;base64,\r\niVBORw0KGgoAAAANSUhEUgAAAGMAAABjCAYAAACPO76VAAAD+ElEQVR4nO2cTSgtYRjH53DZSBaUncTKgoWFhWRhg42InEg+FsqGhWyUkmJHKWUlkiJfJwspO/JxDsVKWVBYKEV2KPm4u8f7nJu5Y2bOmf+9/X+r/9Nz5p2n/ud53/fMmZmQZVmfFoEgJegCyBc0AwiaAQTNAIJmAEEzgKAZQNAMIGgGEDQDCJoBBM0AgmYAQTOAoBlA0AwgaAYQv4IuwCmZmZkqbmpqEj0zM+N4nO3tbRWPjo6KjsViKvfx8fGTEj3DzgCCZgARsoBvSMjKyhK9tLSkctXV1b6fb3l5WcWtra2+n8MOdgYQNAMImgEE9JrR1dUl2m77urW1peKxsTEV393dia6trVW54eFh0enp6SpXVlYm+vLy0kHF3mBnAEEzgID+BV5RUfFtbmNjQ3RjY6PjMU9OTlSckvL1ffz81DP229ub43H9gJ0BBM0AgmYAAb1m2HF2dubquP7+fhVnZ2eLvr29Vbnr62tX53ALOwMImgEE9DQ1Ozsrur29XeVKS0tF5+fnq1w4HFZxd3e36NzcXJV7f38X3dvb67pWP2BnAEEzgKAZQEBftTXZ29tTcXl5uatxnp6eVDwxMSF6ZGTE1Zh+wc4AgmYAAb21NYlEIiq2m6Zubm5UfHx8LHp1dVXl1tfXfajOH9gZQNAMIGgGEFBrRigUUnFhYaFo85LG35ienlbx+Pi4t8KSBDsDCJoBBM0AAupySEFBgYovLi5cjXN1daXikpIS0c/Pz67GTAbsDCBoBhCBb23z8vJEb25uOj7OvBnt4OBA5fr6+lRcXFws+ujo6KclJg12BhA0AwiaAUTgW9uGhgbRa2tr335ucHBQxVNTU6KLiopULhqNqth83Liurs5VncmAnQEEzQAi8K2tHYeHh6Ln5uZU7uXlRfTp6anKDQwMqHhoaEh0Tk6Oyj08PHiu0y/YGUDQDCBoBhDQa4Z54/P9/b3j48xtr2Xpm9OqqqpUbmVlxWV1/sPOAIJmAAE1TcU/6nt+fu7LuOYv8oyMDF/GTATsDCBoBhA0A4jA1wxzyxr/gkbzMeHm5mbX5zDfqmO+qcey/rzMEiTsDCBoBhCB/7lk0tHRoWLzntmenh6VW1hYcDzu4+Oj6Pg3K1RWVv6kxITCzgCCZgBBM4AIfGtrsri4qOK2tjbR8VvQ1NRU0Ts7Oypn/rNnWfplxfv7+17LTBjsDCBoBhBQW9t4zOllcnJS5VpaWkSnpaXZjvP6+iq6pqZG5XZ3dz1U6C/sDCBoBhA0AwjoNcMOc82or69XufgrvJ2dnaLn5+cTWZYn2BlA0Awg/tlp6n+EnQEEzQCCZgBBM4CgGUDQDCBoBhA0AwiaAQTNAOI3fYHbt2XqCB4AAAAASUVORK5CYII=\" y=\"-8.711404\"/>\r\n   </g>\r\n   <g id=\"matplotlib.axis_5\">\r\n    <g id=\"xtick_7\">\r\n     <g id=\"line2d_13\">\r\n      <g>\r\n       <use style=\"stroke:#000000;stroke-width:0.8;\" x=\"265.012815\" xlink:href=\"#m4776731f20\" y=\"107.711404\"/>\r\n      </g>\r\n     </g>\r\n     <g id=\"text_13\">\r\n      <!-- 0 -->\r\n      <g transform=\"translate(261.831565 122.309841)scale(0.1 -0.1)\">\r\n       <use xlink:href=\"#DejaVuSans-30\"/>\r\n      </g>\r\n     </g>\r\n    </g>\r\n    <g id=\"xtick_8\">\r\n     <g id=\"line2d_14\">\r\n      <g>\r\n       <use style=\"stroke:#000000;stroke-width:0.8;\" x=\"300.180882\" xlink:href=\"#m4776731f20\" y=\"107.711404\"/>\r\n      </g>\r\n     </g>\r\n     <g id=\"text_14\">\r\n      <!-- 10 -->\r\n      <g transform=\"translate(293.818382 122.309841)scale(0.1 -0.1)\">\r\n       <use xlink:href=\"#DejaVuSans-31\"/>\r\n       <use x=\"63.623047\" xlink:href=\"#DejaVuSans-30\"/>\r\n      </g>\r\n     </g>\r\n    </g>\r\n    <g id=\"xtick_9\">\r\n     <g id=\"line2d_15\">\r\n      <g>\r\n       <use style=\"stroke:#000000;stroke-width:0.8;\" x=\"335.34895\" xlink:href=\"#m4776731f20\" y=\"107.711404\"/>\r\n      </g>\r\n     </g>\r\n     <g id=\"text_15\">\r\n      <!-- 20 -->\r\n      <g transform=\"translate(328.98645 122.309841)scale(0.1 -0.1)\">\r\n       <use xlink:href=\"#DejaVuSans-32\"/>\r\n       <use x=\"63.623047\" xlink:href=\"#DejaVuSans-30\"/>\r\n      </g>\r\n     </g>\r\n    </g>\r\n   </g>\r\n   <g id=\"matplotlib.axis_6\">\r\n    <g id=\"ytick_7\">\r\n     <g id=\"line2d_16\">\r\n      <g>\r\n       <use style=\"stroke:#000000;stroke-width:0.8;\" x=\"263.254412\" xlink:href=\"#m57fd1f5cd7\" y=\"10.999219\"/>\r\n      </g>\r\n     </g>\r\n     <g id=\"text_16\">\r\n      <!-- 0 -->\r\n      <g transform=\"translate(249.891912 14.798437)scale(0.1 -0.1)\">\r\n       <use xlink:href=\"#DejaVuSans-30\"/>\r\n      </g>\r\n     </g>\r\n    </g>\r\n    <g id=\"ytick_8\">\r\n     <g id=\"line2d_17\">\r\n      <g>\r\n       <use style=\"stroke:#000000;stroke-width:0.8;\" x=\"263.254412\" xlink:href=\"#m57fd1f5cd7\" y=\"46.167286\"/>\r\n      </g>\r\n     </g>\r\n     <g id=\"text_17\">\r\n      <!-- 10 -->\r\n      <g transform=\"translate(243.529412 49.966505)scale(0.1 -0.1)\">\r\n       <use xlink:href=\"#DejaVuSans-31\"/>\r\n       <use x=\"63.623047\" xlink:href=\"#DejaVuSans-30\"/>\r\n      </g>\r\n     </g>\r\n    </g>\r\n    <g id=\"ytick_9\">\r\n     <g id=\"line2d_18\">\r\n      <g>\r\n       <use style=\"stroke:#000000;stroke-width:0.8;\" x=\"263.254412\" xlink:href=\"#m57fd1f5cd7\" y=\"81.335353\"/>\r\n      </g>\r\n     </g>\r\n     <g id=\"text_18\">\r\n      <!-- 20 -->\r\n      <g transform=\"translate(243.529412 85.134572)scale(0.1 -0.1)\">\r\n       <use xlink:href=\"#DejaVuSans-32\"/>\r\n       <use x=\"63.623047\" xlink:href=\"#DejaVuSans-30\"/>\r\n      </g>\r\n     </g>\r\n    </g>\r\n   </g>\r\n   <g id=\"patch_13\">\r\n    <path d=\"M 263.254412 107.711404 \r\nL 263.254412 9.240815 \r\n\" style=\"fill:none;stroke:#000000;stroke-linecap:square;stroke-linejoin:miter;stroke-width:0.8;\"/>\r\n   </g>\r\n   <g id=\"patch_14\">\r\n    <path d=\"M 361.725 107.711404 \r\nL 361.725 9.240815 \r\n\" style=\"fill:none;stroke:#000000;stroke-linecap:square;stroke-linejoin:miter;stroke-width:0.8;\"/>\r\n   </g>\r\n   <g id=\"patch_15\">\r\n    <path d=\"M 263.254412 107.711404 \r\nL 361.725 107.711404 \r\n\" style=\"fill:none;stroke:#000000;stroke-linecap:square;stroke-linejoin:miter;stroke-width:0.8;\"/>\r\n   </g>\r\n   <g id=\"patch_16\">\r\n    <path d=\"M 263.254412 9.240815 \r\nL 361.725 9.240815 \r\n\" style=\"fill:none;stroke:#000000;stroke-linecap:square;stroke-linejoin:miter;stroke-width:0.8;\"/>\r\n   </g>\r\n  </g>\r\n  <g id=\"axes_4\">\r\n   <g id=\"patch_17\">\r\n    <path d=\"M 26.925 226.31504 \r\nL 125.395588 226.31504 \r\nL 125.395588 127.844452 \r\nL 26.925 127.844452 \r\nz\r\n\" style=\"fill:#ffffff;\"/>\r\n   </g>\r\n   <g clip-path=\"url(#p84f64dc245)\">\r\n    <image height=\"99\" id=\"imageb814768457\" transform=\"scale(1 -1)translate(0 -99)\" width=\"99\" x=\"26.925\" xlink:href=\"data:image/png;base64,\r\niVBORw0KGgoAAAANSUhEUgAAAGMAAABjCAYAAACPO76VAAAESUlEQVR4nO2cOyx0QRTHz4pCKJeWEqWEVqtFovKoRFSETlCJR4FGqxCP0qMhKJfSo0QpSpTo0I1zzvfd+9n95u7+N/n/qjM5du9s/s7MmZlzJyciX0IgqKl0B8gPFAMIigEExQCCYgBBMYCgGEBQDCAoBhAUA4jaSncgjZ6enmD39vYa38PDQ6JvenratNvb24N9dnZmfC8vL//Zy3gwMoCgGEDkBGjXdnZ21rQXFhaC/fVlu5nL5X7l8/6npyfjm5qaCvbh4WGRPY4LIwMIigEExQCi7HNGY2Ojaet5oa+vz/iampqCHWvOSPMdHR0Z38jISLDf398laxgZQFAMIMoyTOnh5uTkxPg6OzuD/fn5aXx6SDk4ODC+19fXYP9rmNIrdN0X/1n/ueHh4WDv7e1J1jAygKAYQFAMIMoyZ+j0dWZmxnZAjdNLS0vGNz8/H70vPn3e3t4Odn19vfHp+WRgYMD4stg6YWQAQTGAyGSY8kPB/v5+sH0aqle9OpUUKc+qd2dnJ9iDg4PGp/vq+9LV1RXs+/v7KH1hZABBMYCgGEBkMmfodFHEjsV+zqitxamJGBoaMu2tra1g+60SvT3j095SYWQAQTGAyGSM0HVKIjbEY6WBWeBX1a2trcH2xRL9/f2JvsXFxZKez8gAgmIAQTGAiDZn6LrYjo4O49PpbKFQiPXI6Ly9vZm23jUeGxszvnw+H2z/e/XubzFbOowMICgGENGGKb1T61ervl2NrKysmPbq6mqwdZorInJ3dxfsYg7IGBlAUAwgKAYQ0eaMy8vLYI+Ojib+na+1rRZ2d3dNe2JiItjNzc3GV+pvZGQAQTGAoBhARJszLi4ugq2LkkVssbHPyauF5+dn09avLLe0tER5BiMDCIoBRLRh6vHxMdj+XYbJyclg+4KEasHX4dbV1QU71m9iZABBMYCgGEBkUh3iK0DSttDX19eD7d/P+O2NN7GqM9K4uroybV054lP5zc3Nkp7ByACCYgCRyTDlV6u6rQ/yRWzae3p6anzn5+eJz9Crer9L7AsE0m46aGtrC3ZDQ4PxHR8f//V5IjadnZubM77r6+vEfqfByACCYgBBMYDIZM7wBcR6LF5bWzM+PRbr9+tERMbHxxO/Mw2/M6wLsdPmjJubm8S+1dTY/1v9nmKs15AZGUBQDCDKfvmXXnGLpO/o6pW7f8Xr9vY28Tt13a//3mIuBtMp+cbGhvFlscpnZABBMYCgGECUfc7o7u42bT1n+DvN0y6F1JcF+y0Wv61R6oWR+k51fZKZFYwMICgGEBW/Cz3t7lo9hKVdGlbMvbYfHx/Gpw+0lpeXf9vtTGBkAEExgKAYQFT8Sht/KqjRB/v+pE2nyLo4QOTPFDXtVA7p+gxGBhAUA4iKp7bkB0YGEBQDCIoBBMUAgmIAQTGAoBhAUAwgKAYQFAMIigEExQCCYgBBMYCgGEBQDCAoBhDfCNRbo+y0THIAAAAASUVORK5CYII=\" y=\"-127.31504\"/>\r\n   </g>\r\n   <g id=\"matplotlib.axis_7\">\r\n    <g id=\"xtick_10\">\r\n     <g id=\"line2d_19\">\r\n      <g>\r\n       <use style=\"stroke:#000000;stroke-width:0.8;\" x=\"28.683403\" xlink:href=\"#m4776731f20\" y=\"226.31504\"/>\r\n      </g>\r\n     </g>\r\n     <g id=\"text_19\">\r\n      <!-- 0 -->\r\n      <g transform=\"translate(25.502153 240.913477)scale(0.1 -0.1)\">\r\n       <use xlink:href=\"#DejaVuSans-30\"/>\r\n      </g>\r\n     </g>\r\n    </g>\r\n    <g id=\"xtick_11\">\r\n     <g id=\"line2d_20\">\r\n      <g>\r\n       <use style=\"stroke:#000000;stroke-width:0.8;\" x=\"63.851471\" xlink:href=\"#m4776731f20\" y=\"226.31504\"/>\r\n      </g>\r\n     </g>\r\n     <g id=\"text_20\">\r\n      <!-- 10 -->\r\n      <g transform=\"translate(57.488971 240.913477)scale(0.1 -0.1)\">\r\n       <use xlink:href=\"#DejaVuSans-31\"/>\r\n       <use x=\"63.623047\" xlink:href=\"#DejaVuSans-30\"/>\r\n      </g>\r\n     </g>\r\n    </g>\r\n    <g id=\"xtick_12\">\r\n     <g id=\"line2d_21\">\r\n      <g>\r\n       <use style=\"stroke:#000000;stroke-width:0.8;\" x=\"99.019538\" xlink:href=\"#m4776731f20\" y=\"226.31504\"/>\r\n      </g>\r\n     </g>\r\n     <g id=\"text_21\">\r\n      <!-- 20 -->\r\n      <g transform=\"translate(92.657038 240.913477)scale(0.1 -0.1)\">\r\n       <use xlink:href=\"#DejaVuSans-32\"/>\r\n       <use x=\"63.623047\" xlink:href=\"#DejaVuSans-30\"/>\r\n      </g>\r\n     </g>\r\n    </g>\r\n   </g>\r\n   <g id=\"matplotlib.axis_8\">\r\n    <g id=\"ytick_10\">\r\n     <g id=\"line2d_22\">\r\n      <g>\r\n       <use style=\"stroke:#000000;stroke-width:0.8;\" x=\"26.925\" xlink:href=\"#m57fd1f5cd7\" y=\"129.602855\"/>\r\n      </g>\r\n     </g>\r\n     <g id=\"text_22\">\r\n      <!-- 0 -->\r\n      <g transform=\"translate(13.5625 133.402074)scale(0.1 -0.1)\">\r\n       <use xlink:href=\"#DejaVuSans-30\"/>\r\n      </g>\r\n     </g>\r\n    </g>\r\n    <g id=\"ytick_11\">\r\n     <g id=\"line2d_23\">\r\n      <g>\r\n       <use style=\"stroke:#000000;stroke-width:0.8;\" x=\"26.925\" xlink:href=\"#m57fd1f5cd7\" y=\"164.770922\"/>\r\n      </g>\r\n     </g>\r\n     <g id=\"text_23\">\r\n      <!-- 10 -->\r\n      <g transform=\"translate(7.2 168.570141)scale(0.1 -0.1)\">\r\n       <use xlink:href=\"#DejaVuSans-31\"/>\r\n       <use x=\"63.623047\" xlink:href=\"#DejaVuSans-30\"/>\r\n      </g>\r\n     </g>\r\n    </g>\r\n    <g id=\"ytick_12\">\r\n     <g id=\"line2d_24\">\r\n      <g>\r\n       <use style=\"stroke:#000000;stroke-width:0.8;\" x=\"26.925\" xlink:href=\"#m57fd1f5cd7\" y=\"199.93899\"/>\r\n      </g>\r\n     </g>\r\n     <g id=\"text_24\">\r\n      <!-- 20 -->\r\n      <g transform=\"translate(7.2 203.738208)scale(0.1 -0.1)\">\r\n       <use xlink:href=\"#DejaVuSans-32\"/>\r\n       <use x=\"63.623047\" xlink:href=\"#DejaVuSans-30\"/>\r\n      </g>\r\n     </g>\r\n    </g>\r\n   </g>\r\n   <g id=\"patch_18\">\r\n    <path d=\"M 26.925 226.31504 \r\nL 26.925 127.844452 \r\n\" style=\"fill:none;stroke:#000000;stroke-linecap:square;stroke-linejoin:miter;stroke-width:0.8;\"/>\r\n   </g>\r\n   <g id=\"patch_19\">\r\n    <path d=\"M 125.395588 226.31504 \r\nL 125.395588 127.844452 \r\n\" style=\"fill:none;stroke:#000000;stroke-linecap:square;stroke-linejoin:miter;stroke-width:0.8;\"/>\r\n   </g>\r\n   <g id=\"patch_20\">\r\n    <path d=\"M 26.925 226.31504 \r\nL 125.395588 226.31504 \r\n\" style=\"fill:none;stroke:#000000;stroke-linecap:square;stroke-linejoin:miter;stroke-width:0.8;\"/>\r\n   </g>\r\n   <g id=\"patch_21\">\r\n    <path d=\"M 26.925 127.844452 \r\nL 125.395588 127.844452 \r\n\" style=\"fill:none;stroke:#000000;stroke-linecap:square;stroke-linejoin:miter;stroke-width:0.8;\"/>\r\n   </g>\r\n  </g>\r\n  <g id=\"axes_5\">\r\n   <g id=\"patch_22\">\r\n    <path d=\"M 145.089706 226.31504 \r\nL 243.560294 226.31504 \r\nL 243.560294 127.844452 \r\nL 145.089706 127.844452 \r\nz\r\n\" style=\"fill:#ffffff;\"/>\r\n   </g>\r\n   <g clip-path=\"url(#pbd765e106d)\">\r\n    <image height=\"99\" id=\"image14f336919f\" transform=\"scale(1 -1)translate(0 -99)\" width=\"99\" x=\"145.089706\" xlink:href=\"data:image/png;base64,\r\niVBORw0KGgoAAAANSUhEUgAAAGMAAABjCAYAAACPO76VAAAED0lEQVR4nO2cTSh8YRTG35HPBTaysJAslPKZkCILZEPCysdGVspW2UkKK7LwkShWSshCWaDIQqGULKxQihSSBQvx/++O99zMNPfOjHkmz2/1nM50561f596Zd+4dnzHmnyEQxEV7AeQbygCCMoCgDCAoAwjKAIIygKAMICgDCMoAgjKAoAwgKAMIygCCMoCgDCAoA4j4SBy0o6ND1XFxoTt/fn5W9fb2dsjHRIOTAQRlAOH5NJWUlKTqhYUFyd3d3d5XFCTn5+eS19bWVG98fFzVHx8fEV9POOBkAEEZQFAGED7j8Sa2wcFBVY+Njfl97dTUlOTZ2Vm/r3Nehzo7OyV3dXWpXnp6uuTU1FTV293dVXV7e7vk19dXv+8fbTgZQFAGEK5OUwUFBZKPj49VLyUlRfLT05PqFRYWSr6/v3e7xh/Jy8uTvLi4qHrV1dWqvr6+llxbW6t6t7e3YVlPOOBkAEEZQFAGEK6uGfaWR29vr+pdXV1Jtq8Rxhjz9vbmcXnBkZOTo+qDgwNVZ2dnSz48PFS9uro6ydHeNuFkAEEZQLjatf38/JT89fWleicnJ5Lf399DXJY7bm5uVN3Y2Kjq/f19yTU1Napnn27n5ubCvjY3cDKAoAwgKAMIVx9tMzIyJJeWlqrezs5O2BYVbvr6+iTPzMyo3t7enuT6+vpfW9NPcDKAoAwgXH20fXx8lByJ01JxcbGqe3p6JDvvm9rY2JB8cXER8LiXl5d+e3d3d26WGFE4GUBQBhCUAURE7rX1yvDwsKpbWlr8vnZoaEiyfUObMcasrKyoury83O9xor1Ta8PJAIIygKAMIKCuGc5f6KqqqiRnZmaqnv3MR0lJieo560DMz88Hv8AIw8kAgjKA8Hyv7W+QlpYmOTExUfWam5slO3eQ7ZsMjDEmNzdXcnJysurZ9+WOjo6q3tnZmeSXl5cgV+0dTgYQlAEEZQABfc2wSUhIUHVRUZHkrKws1dva2lJ1W1ub5JGREdXLz8/3+55LS0uSp6enVe/09DTwgj3AyQCCMoCImdNUa2urqu1f+pxsbm6qen19XbJ9A4IxxjQ0NEgeGBhQPft5lKOjI9VramqS7PwV0iucDCAoAwjKACJmrhnOj7YTExOS+/v7gz6Oc1tjeXlZsv2MiTH6kWkn9jONlZWVQb9/IDgZQFAGEDFzmnISH//9u1hFRYXqTU5OqrqsrEyy84/IfD6fp/e3v+XbO8ihwMkAgjKAoAwgYvaa4RXnX1nY/7hj7wQ7WV1dVbW95fLw8BCWtXEygKAMIP7caQoZTgYQlAEEZQBBGUBQBhCUAQRlAEEZQFAGEJQBBGUAQRlAUAYQlAEEZQBBGUBQBhCUAQRlAEEZQFAGEJQBBGUAQRlA/AdadtyKDlst/AAAAABJRU5ErkJggg==\" y=\"-127.31504\"/>\r\n   </g>\r\n   <g id=\"matplotlib.axis_9\">\r\n    <g id=\"xtick_13\">\r\n     <g id=\"line2d_25\">\r\n      <g>\r\n       <use style=\"stroke:#000000;stroke-width:0.8;\" x=\"146.848109\" xlink:href=\"#m4776731f20\" y=\"226.31504\"/>\r\n      </g>\r\n     </g>\r\n     <g id=\"text_25\">\r\n      <!-- 0 -->\r\n      <g transform=\"translate(143.666859 240.913477)scale(0.1 -0.1)\">\r\n       <use xlink:href=\"#DejaVuSans-30\"/>\r\n      </g>\r\n     </g>\r\n    </g>\r\n    <g id=\"xtick_14\">\r\n     <g id=\"line2d_26\">\r\n      <g>\r\n       <use style=\"stroke:#000000;stroke-width:0.8;\" x=\"182.016176\" xlink:href=\"#m4776731f20\" y=\"226.31504\"/>\r\n      </g>\r\n     </g>\r\n     <g id=\"text_26\">\r\n      <!-- 10 -->\r\n      <g transform=\"translate(175.653676 240.913477)scale(0.1 -0.1)\">\r\n       <use xlink:href=\"#DejaVuSans-31\"/>\r\n       <use x=\"63.623047\" xlink:href=\"#DejaVuSans-30\"/>\r\n      </g>\r\n     </g>\r\n    </g>\r\n    <g id=\"xtick_15\">\r\n     <g id=\"line2d_27\">\r\n      <g>\r\n       <use style=\"stroke:#000000;stroke-width:0.8;\" x=\"217.184244\" xlink:href=\"#m4776731f20\" y=\"226.31504\"/>\r\n      </g>\r\n     </g>\r\n     <g id=\"text_27\">\r\n      <!-- 20 -->\r\n      <g transform=\"translate(210.821744 240.913477)scale(0.1 -0.1)\">\r\n       <use xlink:href=\"#DejaVuSans-32\"/>\r\n       <use x=\"63.623047\" xlink:href=\"#DejaVuSans-30\"/>\r\n      </g>\r\n     </g>\r\n    </g>\r\n   </g>\r\n   <g id=\"matplotlib.axis_10\">\r\n    <g id=\"ytick_13\">\r\n     <g id=\"line2d_28\">\r\n      <g>\r\n       <use style=\"stroke:#000000;stroke-width:0.8;\" x=\"145.089706\" xlink:href=\"#m57fd1f5cd7\" y=\"129.602855\"/>\r\n      </g>\r\n     </g>\r\n     <g id=\"text_28\">\r\n      <!-- 0 -->\r\n      <g transform=\"translate(131.727206 133.402074)scale(0.1 -0.1)\">\r\n       <use xlink:href=\"#DejaVuSans-30\"/>\r\n      </g>\r\n     </g>\r\n    </g>\r\n    <g id=\"ytick_14\">\r\n     <g id=\"line2d_29\">\r\n      <g>\r\n       <use style=\"stroke:#000000;stroke-width:0.8;\" x=\"145.089706\" xlink:href=\"#m57fd1f5cd7\" y=\"164.770922\"/>\r\n      </g>\r\n     </g>\r\n     <g id=\"text_29\">\r\n      <!-- 10 -->\r\n      <g transform=\"translate(125.364706 168.570141)scale(0.1 -0.1)\">\r\n       <use xlink:href=\"#DejaVuSans-31\"/>\r\n       <use x=\"63.623047\" xlink:href=\"#DejaVuSans-30\"/>\r\n      </g>\r\n     </g>\r\n    </g>\r\n    <g id=\"ytick_15\">\r\n     <g id=\"line2d_30\">\r\n      <g>\r\n       <use style=\"stroke:#000000;stroke-width:0.8;\" x=\"145.089706\" xlink:href=\"#m57fd1f5cd7\" y=\"199.93899\"/>\r\n      </g>\r\n     </g>\r\n     <g id=\"text_30\">\r\n      <!-- 20 -->\r\n      <g transform=\"translate(125.364706 203.738208)scale(0.1 -0.1)\">\r\n       <use xlink:href=\"#DejaVuSans-32\"/>\r\n       <use x=\"63.623047\" xlink:href=\"#DejaVuSans-30\"/>\r\n      </g>\r\n     </g>\r\n    </g>\r\n   </g>\r\n   <g id=\"patch_23\">\r\n    <path d=\"M 145.089706 226.31504 \r\nL 145.089706 127.844452 \r\n\" style=\"fill:none;stroke:#000000;stroke-linecap:square;stroke-linejoin:miter;stroke-width:0.8;\"/>\r\n   </g>\r\n   <g id=\"patch_24\">\r\n    <path d=\"M 243.560294 226.31504 \r\nL 243.560294 127.844452 \r\n\" style=\"fill:none;stroke:#000000;stroke-linecap:square;stroke-linejoin:miter;stroke-width:0.8;\"/>\r\n   </g>\r\n   <g id=\"patch_25\">\r\n    <path d=\"M 145.089706 226.31504 \r\nL 243.560294 226.31504 \r\n\" style=\"fill:none;stroke:#000000;stroke-linecap:square;stroke-linejoin:miter;stroke-width:0.8;\"/>\r\n   </g>\r\n   <g id=\"patch_26\">\r\n    <path d=\"M 145.089706 127.844452 \r\nL 243.560294 127.844452 \r\n\" style=\"fill:none;stroke:#000000;stroke-linecap:square;stroke-linejoin:miter;stroke-width:0.8;\"/>\r\n   </g>\r\n  </g>\r\n  <g id=\"axes_6\">\r\n   <g id=\"patch_27\">\r\n    <path d=\"M 263.254412 226.31504 \r\nL 361.725 226.31504 \r\nL 361.725 127.844452 \r\nL 263.254412 127.844452 \r\nz\r\n\" style=\"fill:#ffffff;\"/>\r\n   </g>\r\n   <g clip-path=\"url(#pb24eb89dce)\">\r\n    <image height=\"99\" id=\"imagebdeaf0580d\" transform=\"scale(1 -1)translate(0 -99)\" width=\"99\" x=\"263.254412\" xlink:href=\"data:image/png;base64,\r\niVBORw0KGgoAAAANSUhEUgAAAGMAAABjCAYAAACPO76VAAACKklEQVR4nO3dMYoiQRhA4Z5lEQQDUzNNBM1MBDOv4BE8gOAtDIw8hV7C0FxjDdQLaKrJTtZjdbDsttL9qnlf1EUnBY+/ymEc5itJkj+JEH6VvQH9MAaIMUCMAWIMEGOAGAPEGCDGADEGyO+yN/AJs9ksWDcajWC9WCyK3E5uTgaIMUCiPaYmk0n63O/3g3fz+bzg3XyGkwFiDBBjgER7Z0yn0/R5u90G7x6PR9Hb+QgnA8QYINEeU69Go1GwXq1WJe3kPU4GiDFAjAFSiTuj2+2WvYWPcDJAjAFiDBBjgBgDxBggxgAxBogxQKL9CTzWXyD9jZMBYgwQY4BEe2dsNpv0eblcBu+azWawvt/vBezofU4GiDFAoj2mDodD+txqtYJ37XY7WO/3+wJ29D4nA8QYIMYAifbOOJ1O6fPz+Qze9Xq9YO2dof9mDBBjgER7Z7y6Xq/BejgcBuv1el3kdnJzMkCMAVKJYyr7Z2SxcjJAjAFiDBBjgBgDxBgglfhomzUej8veQi5OBogxQIwBUsk7o9PplL2FXJwMEGOAVOKYOh6PwbpWqwXr1y+1nc/nAnaUj5MBYgwQY4BU4s7Y7XbBul6vB+vBYJA+e2fonxgDpBLHVFb2u7fZ71VRORkgxgAxBkgl7ozb7Rassx91L5dLkdvJzckAMQbIV+I/Z8dwMkCMAWIMEGOAGAPEGCDGADEGiDFAjAFiDBBjgBgDxBggxgAxBogxQL4BERxKZKhXeOwAAAAASUVORK5CYII=\" y=\"-127.31504\"/>\r\n   </g>\r\n   <g id=\"matplotlib.axis_11\">\r\n    <g id=\"xtick_16\">\r\n     <g id=\"line2d_31\">\r\n      <g>\r\n       <use style=\"stroke:#000000;stroke-width:0.8;\" x=\"265.012815\" xlink:href=\"#m4776731f20\" y=\"226.31504\"/>\r\n      </g>\r\n     </g>\r\n     <g id=\"text_31\">\r\n      <!-- 0 -->\r\n      <g transform=\"translate(261.831565 240.913477)scale(0.1 -0.1)\">\r\n       <use xlink:href=\"#DejaVuSans-30\"/>\r\n      </g>\r\n     </g>\r\n    </g>\r\n    <g id=\"xtick_17\">\r\n     <g id=\"line2d_32\">\r\n      <g>\r\n       <use style=\"stroke:#000000;stroke-width:0.8;\" x=\"300.180882\" xlink:href=\"#m4776731f20\" y=\"226.31504\"/>\r\n      </g>\r\n     </g>\r\n     <g id=\"text_32\">\r\n      <!-- 10 -->\r\n      <g transform=\"translate(293.818382 240.913477)scale(0.1 -0.1)\">\r\n       <use xlink:href=\"#DejaVuSans-31\"/>\r\n       <use x=\"63.623047\" xlink:href=\"#DejaVuSans-30\"/>\r\n      </g>\r\n     </g>\r\n    </g>\r\n    <g id=\"xtick_18\">\r\n     <g id=\"line2d_33\">\r\n      <g>\r\n       <use style=\"stroke:#000000;stroke-width:0.8;\" x=\"335.34895\" xlink:href=\"#m4776731f20\" y=\"226.31504\"/>\r\n      </g>\r\n     </g>\r\n     <g id=\"text_33\">\r\n      <!-- 20 -->\r\n      <g transform=\"translate(328.98645 240.913477)scale(0.1 -0.1)\">\r\n       <use xlink:href=\"#DejaVuSans-32\"/>\r\n       <use x=\"63.623047\" xlink:href=\"#DejaVuSans-30\"/>\r\n      </g>\r\n     </g>\r\n    </g>\r\n   </g>\r\n   <g id=\"matplotlib.axis_12\">\r\n    <g id=\"ytick_16\">\r\n     <g id=\"line2d_34\">\r\n      <g>\r\n       <use style=\"stroke:#000000;stroke-width:0.8;\" x=\"263.254412\" xlink:href=\"#m57fd1f5cd7\" y=\"129.602855\"/>\r\n      </g>\r\n     </g>\r\n     <g id=\"text_34\">\r\n      <!-- 0 -->\r\n      <g transform=\"translate(249.891912 133.402074)scale(0.1 -0.1)\">\r\n       <use xlink:href=\"#DejaVuSans-30\"/>\r\n      </g>\r\n     </g>\r\n    </g>\r\n    <g id=\"ytick_17\">\r\n     <g id=\"line2d_35\">\r\n      <g>\r\n       <use style=\"stroke:#000000;stroke-width:0.8;\" x=\"263.254412\" xlink:href=\"#m57fd1f5cd7\" y=\"164.770922\"/>\r\n      </g>\r\n     </g>\r\n     <g id=\"text_35\">\r\n      <!-- 10 -->\r\n      <g transform=\"translate(243.529412 168.570141)scale(0.1 -0.1)\">\r\n       <use xlink:href=\"#DejaVuSans-31\"/>\r\n       <use x=\"63.623047\" xlink:href=\"#DejaVuSans-30\"/>\r\n      </g>\r\n     </g>\r\n    </g>\r\n    <g id=\"ytick_18\">\r\n     <g id=\"line2d_36\">\r\n      <g>\r\n       <use style=\"stroke:#000000;stroke-width:0.8;\" x=\"263.254412\" xlink:href=\"#m57fd1f5cd7\" y=\"199.93899\"/>\r\n      </g>\r\n     </g>\r\n     <g id=\"text_36\">\r\n      <!-- 20 -->\r\n      <g transform=\"translate(243.529412 203.738208)scale(0.1 -0.1)\">\r\n       <use xlink:href=\"#DejaVuSans-32\"/>\r\n       <use x=\"63.623047\" xlink:href=\"#DejaVuSans-30\"/>\r\n      </g>\r\n     </g>\r\n    </g>\r\n   </g>\r\n   <g id=\"patch_28\">\r\n    <path d=\"M 263.254412 226.31504 \r\nL 263.254412 127.844452 \r\n\" style=\"fill:none;stroke:#000000;stroke-linecap:square;stroke-linejoin:miter;stroke-width:0.8;\"/>\r\n   </g>\r\n   <g id=\"patch_29\">\r\n    <path d=\"M 361.725 226.31504 \r\nL 361.725 127.844452 \r\n\" style=\"fill:none;stroke:#000000;stroke-linecap:square;stroke-linejoin:miter;stroke-width:0.8;\"/>\r\n   </g>\r\n   <g id=\"patch_30\">\r\n    <path d=\"M 263.254412 226.31504 \r\nL 361.725 226.31504 \r\n\" style=\"fill:none;stroke:#000000;stroke-linecap:square;stroke-linejoin:miter;stroke-width:0.8;\"/>\r\n   </g>\r\n   <g id=\"patch_31\">\r\n    <path d=\"M 263.254412 127.844452 \r\nL 361.725 127.844452 \r\n\" style=\"fill:none;stroke:#000000;stroke-linecap:square;stroke-linejoin:miter;stroke-width:0.8;\"/>\r\n   </g>\r\n  </g>\r\n </g>\r\n <defs>\r\n  <clipPath id=\"pb79ed6e7d0\">\r\n   <rect height=\"98.470588\" width=\"98.470588\" x=\"26.925\" y=\"9.240815\"/>\r\n  </clipPath>\r\n  <clipPath id=\"pcf4bc3df93\">\r\n   <rect height=\"98.470588\" width=\"98.470588\" x=\"145.089706\" y=\"9.240815\"/>\r\n  </clipPath>\r\n  <clipPath id=\"p90c09c497e\">\r\n   <rect height=\"98.470588\" width=\"98.470588\" x=\"263.254412\" y=\"9.240815\"/>\r\n  </clipPath>\r\n  <clipPath id=\"p84f64dc245\">\r\n   <rect height=\"98.470588\" width=\"98.470588\" x=\"26.925\" y=\"127.844452\"/>\r\n  </clipPath>\r\n  <clipPath id=\"pbd765e106d\">\r\n   <rect height=\"98.470588\" width=\"98.470588\" x=\"145.089706\" y=\"127.844452\"/>\r\n  </clipPath>\r\n  <clipPath id=\"pb24eb89dce\">\r\n   <rect height=\"98.470588\" width=\"98.470588\" x=\"263.254412\" y=\"127.844452\"/>\r\n  </clipPath>\r\n </defs>\r\n</svg>\r\n",
      "image/png": "[encoded data removed]"
     },
     "metadata": {
      "needs_background": "light"
     }
    }
   ],
   "metadata": {}
  },
  {
   "cell_type": "code",
   "execution_count": 7,
   "source": [
    "class NeuralNet(nn.Module):\r\n",
    "    def __init__(self, input_size, hidden_size, num_classes):\r\n",
    "        super(NeuralNet, self).__init__()\r\n",
    "        self.l1 = nn.Linear(input_size, hidden_size) \r\n",
    "        self.relu = nn.ReLU()\r\n",
    "        self.l2 = nn.Linear(hidden_size, num_classes)  \r\n",
    "    \r\n",
    "    def forward(self, x):\r\n",
    "        out = self.l1(x)\r\n",
    "        out = self.relu(out)\r\n",
    "        out = self.l2(out)\r\n",
    "        # no activation and no softmax at the end\r\n",
    "        return out"
   ],
   "outputs": [],
   "metadata": {}
  },
  {
   "cell_type": "code",
   "execution_count": 8,
   "source": [
    "model =NeuralNet(input_size,hidden_size,num_classes).to(device)\r\n",
    "\r\n",
    "criterion = nn.CrossEntropyLoss()\r\n",
    "optimizer = torch.optim.Adam(model.parameters(), lr=learning_rate) "
   ],
   "outputs": [],
   "metadata": {}
  },
  {
   "cell_type": "markdown",
   "source": [
    "## Newer versions of PyTorch allows nn.Linear to accept N-D input tensor, the only constraint is that the last dimension of the input tensor will equal in_features of the linear layer."
   ],
   "metadata": {}
  },
  {
   "cell_type": "markdown",
   "source": [
    "<span style='color:cyan'>The linear transformation is then applied on the last dimension of the tensor.</span>"
   ],
   "metadata": {}
  },
  {
   "cell_type": "markdown",
   "source": [
    "<span style='color:cyan'>For instance, if in_features=5 and out_features=10 and the input tensor x has dimensions 2-3-5, then the output tensor will have dimensions 2-3-10.</span>"
   ],
   "metadata": {}
  },
  {
   "cell_type": "markdown",
   "source": [
    "## len(train_loader) shows the total number of steps to complete the loading of training dataset. train_loader loads batch size of 100 images each times. The total number of images in training dataset is 60000 images. Then, total number of steps would be 60000/100 = 600 "
   ],
   "metadata": {}
  },
  {
   "cell_type": "code",
   "execution_count": 9,
   "source": [
    "n_total_steps = len(train_loader)\r\n",
    "print(f'number of total steps for trainig dataset with {train_dataset.data.shape[0]} images is {n_total_steps} each train loader is loading {batch_size} images')"
   ],
   "outputs": [
    {
     "output_type": "stream",
     "name": "stdout",
     "text": [
      "number of total steps for trainig dataset with 60000 images is 600 each train loader is loading 100 images\n"
     ]
    }
   ],
   "metadata": {}
  },
  {
   "cell_type": "code",
   "execution_count": 10,
   "source": [
    "for epoch in range(num_epochs):\r\n",
    "    for i, (images,labels)  in enumerate(train_loader):\r\n",
    "        # input size is 28x28 = 784 \r\n",
    "        # origin shape: [100, 1, 28, 28]\r\n",
    "        # resized: [100, 784]\r\n",
    "        images = images.reshape(-1,28*28).to(device)\r\n",
    "        labels = labels.to(device)\r\n",
    "        \r\n",
    "        outputs = model(images)\r\n",
    "        loss = criterion(outputs,labels)\r\n",
    "        \r\n",
    "        optimizer.zero_grad()\r\n",
    "        loss.backward()\r\n",
    "        optimizer.step()\r\n",
    "        if (i+1)%100 == 0:\r\n",
    "            print(f'epoch {epoch+1}/{num_epochs},step{i+1}/{n_total_steps},loss = {loss.item():.3f}')\r\n"
   ],
   "outputs": [
    {
     "output_type": "stream",
     "name": "stdout",
     "text": [
      "epoch 1/2,step100/600,loss = 0.327\n",
      "epoch 1/2,step200/600,loss = 0.329\n",
      "epoch 1/2,step300/600,loss = 0.310\n",
      "epoch 1/2,step400/600,loss = 0.178\n",
      "epoch 1/2,step500/600,loss = 0.167\n",
      "epoch 1/2,step600/600,loss = 0.131\n",
      "epoch 2/2,step100/600,loss = 0.142\n",
      "epoch 2/2,step200/600,loss = 0.203\n",
      "epoch 2/2,step300/600,loss = 0.036\n",
      "epoch 2/2,step400/600,loss = 0.092\n",
      "epoch 2/2,step500/600,loss = 0.138\n",
      "epoch 2/2,step600/600,loss = 0.092\n"
     ]
    }
   ],
   "metadata": {}
  },
  {
   "cell_type": "code",
   "execution_count": 11,
   "source": [
    "with torch.no_grad():\r\n",
    "    n_correct = 0\r\n",
    "    n_samples = 0\r\n",
    "    for images, labels in test_loader:\r\n",
    "        images = images.reshape(-1,28*28).to(device)\r\n",
    "        labels = labels.to(device)\r\n",
    "        outputs = model(images)\r\n",
    "        # value, index will return\r\n",
    "        _, predictions = torch.max(outputs.data,1)\r\n",
    "        n_samples += labels.shape[0]\r\n",
    "        n_correct += (predictions == labels).sum().item()   \r\n",
    "    \r\n",
    "    \r\n",
    "    acc = 100.0 * n_correct/n_samples\r\n",
    "    print(f'Accuracy of the network on the 10000 test images: {acc} %')     \r\n",
    "        "
   ],
   "outputs": [
    {
     "output_type": "stream",
     "name": "stdout",
     "text": [
      "Accuracy of the network on the 10000 test images: 96.98 %\n"
     ]
    }
   ],
   "metadata": {}
  }
 ],
 "metadata": {
  "orig_nbformat": 4,
  "language_info": {
   "name": "python",
   "version": "3.9.6",
   "mimetype": "text/x-python",
   "codemirror_mode": {
    "name": "ipython",
    "version": 3
   },
   "pygments_lexer": "ipython3",
   "nbconvert_exporter": "python",
   "file_extension": ".py"
  },
  "kernelspec": {
   "name": "python3",
   "display_name": "Python 3.9.6 64-bit"
  },
  "interpreter": {
   "hash": "9264711d228fe35bbbcc49f95b90edfc376310506fc14cf04059be83b6263525"
  }
 },
 "nbformat": 4,
 "nbformat_minor": 2
}