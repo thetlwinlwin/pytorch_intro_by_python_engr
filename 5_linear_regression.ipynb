{
    "cells": [
        {
            "cell_type": "markdown",
            "source": [
                "### Pytorch pipeline consists of THREE steps\r\n",
                "* Data Preparation\r\n",
                "* Design model (input size, output size, forward pass)\r\n",
                "* Construct loss and optimizer\r\n",
                "* Training loop\r\n",
                "    * forward pass : compute prediction and loss\r\n",
                "    * backward pass : gradients\r\n",
                "    * update weights"
            ],
            "metadata": {}
        },
        {
            "cell_type": "code",
            "execution_count": 38,
            "source": [
                "import torch\r\n",
                "import torch.nn as nn\r\n",
                "import numpy as np\r\n",
                "from sklearn import datasets\r\n",
                "import matplotlib.pyplot as plt"
            ],
            "outputs": [],
            "metadata": {}
        },
        {
            "cell_type": "code",
            "execution_count": 39,
            "source": [
                "X_numpy, y_numpy = datasets.make_regression(n_samples=100,n_features=1,noise=20,random_state=1)"
            ],
            "outputs": [],
            "metadata": {}
        },
        {
            "cell_type": "code",
            "execution_count": 40,
            "source": [
                "X = torch.from_numpy(X_numpy.astype(np.float32))\r\n",
                "y = torch.from_numpy(y_numpy.astype(np.float32))\r\n",
                "\r\n",
                "print(f'The shape of \"X\" is {X.shape}')\r\n",
                "print(f'The shape of \"y\" is {y.shape}')"
            ],
            "outputs": [
                {
                    "output_type": "stream",
                    "name": "stdout",
                    "text": [
                        "The shape of \"X\" is torch.Size([100, 1])\n",
                        "The shape of \"y\" is torch.Size([100])\n"
                    ]
                }
            ],
            "metadata": {}
        },
        {
            "cell_type": "markdown",
            "source": [
                "### <span style = 'color:cyan'>we have to change the shape of 'y'</span>"
            ],
            "metadata": {}
        },
        {
            "cell_type": "code",
            "execution_count": 41,
            "source": [
                "y = y.view(y.shape[0],1)\r\n",
                "print(f'The shape of \"y\" is now {y.shape}')"
            ],
            "outputs": [
                {
                    "output_type": "stream",
                    "name": "stdout",
                    "text": [
                        "The shape of \"y\" is now torch.Size([100, 1])\n"
                    ]
                }
            ],
            "metadata": {}
        },
        {
            "cell_type": "code",
            "execution_count": 42,
            "source": [
                "n_samples,n_features = X.shape"
            ],
            "outputs": [],
            "metadata": {}
        },
        {
            "cell_type": "code",
            "execution_count": 43,
            "source": [
                "input_size = n_features \r\n",
                "output_size = 1\r\n",
                "model = nn.Linear(input_size,output_size)\r\n",
                "\r\n",
                "for i in model.parameters():\r\n",
                "    print(i[0].item())"
            ],
            "outputs": [
                {
                    "output_type": "stream",
                    "name": "stdout",
                    "text": [
                        "-0.7300541400909424\n",
                        "0.10987889766693115\n"
                    ]
                }
            ],
            "metadata": {}
        },
        {
            "cell_type": "code",
            "execution_count": 44,
            "source": [
                "# loss and optimizer\r\n",
                "learning_rate = 0.01\r\n",
                "cirterion = nn.MSELoss()\r\n",
                "optimizer = torch.optim.SGD(model.parameters(),lr = learning_rate)\r\n",
                "\r\n",
                "num_epochs = 100\r\n",
                "\r\n",
                "for epoch in range(num_epochs):\r\n",
                "    y_pred = model(X)\r\n",
                "    loss = cirterion(y_pred,y)\r\n",
                "    loss.backward()\r\n",
                "    optimizer.step()\r\n",
                "    optimizer.zero_grad()\r\n",
                "    [w,b] = model.parameters()\r\n",
                "    if (epoch+1)%10 == 0:\r\n",
                "        print(f'epoch is {epoch+1},loss is {loss.item():.3f},weight is {w[0].item():.3f}')\r\n",
                "    "
            ],
            "outputs": [
                {
                    "output_type": "stream",
                    "name": "stdout",
                    "text": [
                        "epoch is 10,loss is 4453.462,weight is 11.516\n",
                        "epoch is 20,loss is 3321.645,weight is 21.950\n",
                        "epoch is 30,loss is 2502.597,weight is 30.842\n",
                        "epoch is 40,loss is 1909.260,weight is 38.420\n",
                        "epoch is 50,loss is 1479.013,weight is 44.881\n",
                        "epoch is 60,loss is 1166.745,weight is 50.390\n",
                        "epoch is 70,loss is 939.917,weight is 55.088\n",
                        "epoch is 80,loss is 775.023,weight is 59.096\n",
                        "epoch is 90,loss is 655.069,weight is 62.514\n",
                        "epoch is 100,loss is 567.749,weight is 65.431\n"
                    ]
                }
            ],
            "metadata": {}
        },
        {
            "cell_type": "markdown",
            "source": [
                "## variable \"predicted\" one without requires_grad = True"
            ],
            "metadata": {}
        },
        {
            "cell_type": "code",
            "execution_count": null,
            "source": [
                "predicted = model(X).detach().numpy()\r\n",
                "plt.plot(X_numpy,y_numpy,'ro')\r\n",
                "plt.plot(X_numpy,predicted,'b')\r\n",
                "plt.show()"
            ],
            "outputs": [],
            "metadata": {}
        }
    ],
    "metadata": {
        "orig_nbformat": 4,
        "language_info": {
            "name": "python",
            "version": "3.9.6",
            "mimetype": "text/x-python",
            "codemirror_mode": {
                "name": "ipython",
                "version": 3
            },
            "pygments_lexer": "ipython3",
            "nbconvert_exporter": "python",
            "file_extension": ".py"
        },
        "kernelspec": {
            "name": "python3",
            "display_name": "Python 3.9.6 64-bit"
        },
        "interpreter": {
            "hash": "9264711d228fe35bbbcc49f95b90edfc376310506fc14cf04059be83b6263525"
        }
    },
    "nbformat": 4,
    "nbformat_minor": 2
}