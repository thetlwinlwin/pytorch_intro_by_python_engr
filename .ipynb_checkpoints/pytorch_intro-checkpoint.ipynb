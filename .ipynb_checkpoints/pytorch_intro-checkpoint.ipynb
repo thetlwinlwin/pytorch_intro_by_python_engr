{
 "cells": [
  {
   "cell_type": "code",
   "execution_count": 33,
   "metadata": {},
   "outputs": [],
   "source": [
    "%config IPCompleter.greedy=True"
   ]
  },
  {
   "cell_type": "code",
   "execution_count": 2,
   "metadata": {},
   "outputs": [],
   "source": [
    "import torch"
   ]
  },
  {
   "cell_type": "markdown",
   "metadata": {},
   "source": [
    "<span style='color:rgb(127, 255, 212)'>To check my laptop graphic card can use cuda cores.</span>"
   ]
  },
  {
   "cell_type": "code",
   "execution_count": 3,
   "metadata": {},
   "outputs": [
    {
     "data": {
      "text/plain": [
       "True"
      ]
     },
     "execution_count": 3,
     "metadata": {},
     "output_type": "execute_result"
    }
   ],
   "source": [
    "torch.cuda.is_available()"
   ]
  },
  {
   "cell_type": "code",
   "execution_count": 4,
   "metadata": {},
   "outputs": [
    {
     "name": "stdout",
     "output_type": "stream",
     "text": [
      "tensor([[0., 0., 0.],\n",
      "        [0., 0., 0.]], dtype=torch.float16)\n",
      "tensor([[0., 0., 0.],\n",
      "        [0., 0., 0.]])\n",
      "the size of the tensor \"x\" is torch.Size([2, 3])\n"
     ]
    }
   ],
   "source": [
    "#2 by 3 matrices\r\n",
    "x = torch.empty(2,3,dtype=torch.float16)\r\n",
    "y = torch.zeros(2,3)\r\n",
    "print(x)\r\n",
    "print(y)\r\n",
    "print(f'the size of the tensor \"x\" is {x.size()}')"
   ]
  },
  {
   "cell_type": "code",
   "execution_count": 5,
   "metadata": {},
   "outputs": [
    {
     "name": "stdout",
     "output_type": "stream",
     "text": [
      "tensor([2.5000, 0.1000])\n"
     ]
    }
   ],
   "source": [
    "x = torch.Tensor([2.5,0.1])\r\n",
    "print(x)"
   ]
  },
  {
   "cell_type": "markdown",
   "metadata": {},
   "source": [
    "## <span style='color:rgb(127, 255, 212)'>  OPEARATIONS </span>"
   ]
  },
  {
   "cell_type": "code",
   "execution_count": 6,
   "metadata": {},
   "outputs": [
    {
     "name": "stdout",
     "output_type": "stream",
     "text": [
      "x is \n",
      " tensor([[0.2577, 0.6458],\n",
      "        [0.8148, 0.5784]])\n",
      "y is \n",
      " tensor([[0.8570, 0.1383],\n",
      "        [0.0672, 0.9275]])\n"
     ]
    }
   ],
   "source": [
    "x = torch.rand(2,2)\r\n",
    "y = torch.rand(2,2)\r\n",
    "print(f'x is \\n {x}')\r\n",
    "print(f'y is \\n {y}')"
   ]
  },
  {
   "cell_type": "code",
   "execution_count": 7,
   "metadata": {},
   "outputs": [
    {
     "name": "stdout",
     "output_type": "stream",
     "text": [
      "tensor([[1.1147, 0.7840],\n",
      "        [0.8819, 1.5060]])\n"
     ]
    }
   ],
   "source": [
    "print(x + y)"
   ]
  },
  {
   "cell_type": "markdown",
   "metadata": {},
   "source": [
    "### <span style='color:rgb(127, 255, 212)'> EVERY FUNCTION THAT HAS A TRAILING UNDERSCORE WILL DO IN PLACE OPERATION.</span> \r\n",
    "<span style='color:rgb(127, 255, 212)'>Below example, the original 'y' is replaced by the value of x + y</span>"
   ]
  },
  {
   "cell_type": "code",
   "execution_count": 8,
   "metadata": {},
   "outputs": [
    {
     "name": "stdout",
     "output_type": "stream",
     "text": [
      "tensor([[1.1147, 0.7840],\n",
      "        [0.8819, 1.5060]])\n"
     ]
    }
   ],
   "source": [
    "y.add_(x)\r\n",
    "print(y)"
   ]
  },
  {
   "cell_type": "code",
   "execution_count": 9,
   "metadata": {},
   "outputs": [
    {
     "name": "stdout",
     "output_type": "stream",
     "text": [
      "tensor([[0.0727, 0.4526, 0.9927],\n",
      "        [0.3490, 0.8218, 0.5162],\n",
      "        [0.5746, 0.3220, 0.3540],\n",
      "        [0.8988, 0.7974, 0.9805],\n",
      "        [0.4134, 0.8580, 0.3794]])\n",
      "all rows from column 1 tensor([0.0727, 0.3490, 0.5746, 0.8988, 0.4134])\n"
     ]
    }
   ],
   "source": [
    "x = torch.rand(5,3)\r\n",
    "print(x)\r\n",
    "print(f\"all rows from column 1 {x[:,0]}\")"
   ]
  },
  {
   "cell_type": "code",
   "execution_count": 10,
   "metadata": {},
   "outputs": [
    {
     "name": "stdout",
     "output_type": "stream",
     "text": [
      "2nd row from all column tensor([0.3490, 0.8218, 0.5162])\n"
     ]
    }
   ],
   "source": [
    "print(f'2nd row from all column {x[1,:]}')"
   ]
  },
  {
   "cell_type": "markdown",
   "metadata": {},
   "source": [
    "<span style='color:rgb(127, 255, 212)'>item() method can only be used if you want single element</span>"
   ]
  },
  {
   "cell_type": "code",
   "execution_count": 11,
   "metadata": {},
   "outputs": [
    {
     "name": "stdout",
     "output_type": "stream",
     "text": [
      "only element at 2X2 0.8217606544494629\n"
     ]
    }
   ],
   "source": [
    "print(f'only element at 2X2 {x[1,1].item()}')"
   ]
  },
  {
   "cell_type": "code",
   "execution_count": 12,
   "metadata": {},
   "outputs": [
    {
     "name": "stdout",
     "output_type": "stream",
     "text": [
      "tensor([[0.0684, 0.3391, 0.5893, 0.9557],\n",
      "        [0.7118, 0.3352, 0.8871, 0.6957],\n",
      "        [0.6183, 0.5611, 0.7521, 0.9504],\n",
      "        [0.1122, 0.2501, 0.0379, 0.9491]])\n"
     ]
    }
   ],
   "source": [
    "x = torch.rand(4,4)\r\n",
    "print(x)"
   ]
  },
  {
   "cell_type": "code",
   "execution_count": 13,
   "metadata": {},
   "outputs": [
    {
     "name": "stdout",
     "output_type": "stream",
     "text": [
      "tensor([0.0684, 0.3391, 0.5893, 0.9557, 0.7118, 0.3352, 0.8871, 0.6957, 0.6183,\n",
      "        0.5611, 0.7521, 0.9504, 0.1122, 0.2501, 0.0379, 0.9491])\n",
      "x reshape into size of torch.Size([16])\n"
     ]
    }
   ],
   "source": [
    "y = x.view(16)\r\n",
    "print(y)\r\n",
    "print(f'x reshape into size of {y.size()}')"
   ]
  },
  {
   "cell_type": "markdown",
   "metadata": {},
   "source": [
    "<span style='color:rgb(127, 255, 212)'>pytorch will automatically give you the size when reshaping</span>"
   ]
  },
  {
   "cell_type": "code",
   "execution_count": 14,
   "metadata": {},
   "outputs": [
    {
     "name": "stdout",
     "output_type": "stream",
     "text": [
      "tensor([[0.0684, 0.3391, 0.5893, 0.9557, 0.7118, 0.3352, 0.8871, 0.6957],\n",
      "        [0.6183, 0.5611, 0.7521, 0.9504, 0.1122, 0.2501, 0.0379, 0.9491]])\n",
      "size is now torch.Size([2, 8])\n"
     ]
    }
   ],
   "source": [
    "y = x.view(-1,8) # or (2,8)\r\n",
    "print(y)\r\n",
    "print(f'size is now {y.size()}')"
   ]
  },
  {
   "cell_type": "code",
   "execution_count": 15,
   "metadata": {},
   "outputs": [],
   "source": [
    "import numpy as np\r\n"
   ]
  },
  {
   "cell_type": "code",
   "execution_count": 16,
   "metadata": {},
   "outputs": [
    {
     "name": "stdout",
     "output_type": "stream",
     "text": [
      "tensor([1., 1., 1., 1., 1.])\n"
     ]
    }
   ],
   "source": [
    "a = torch.ones(5)\r\n",
    "print(a)"
   ]
  },
  {
   "cell_type": "markdown",
   "metadata": {},
   "source": [
    "## Changing tensor into numpy arrays"
   ]
  },
  {
   "cell_type": "code",
   "execution_count": 17,
   "metadata": {},
   "outputs": [
    {
     "name": "stdout",
     "output_type": "stream",
     "text": [
      "[1. 1. 1. 1. 1.]\n",
      "type of b is <class 'numpy.ndarray'>\n"
     ]
    }
   ],
   "source": [
    "b = a.numpy()\r\n",
    "print(b)\r\n",
    "print(f'type of b is {type(b)}') "
   ]
  },
  {
   "cell_type": "markdown",
   "metadata": {},
   "source": [
    "# <span style='color:rgb(127, 255, 212)'>if the tensor or numpy array is not on the gpu, the object will share same memory location</span>\r\n",
    "**if we change a, the changes will apply to b.** "
   ]
  },
  {
   "cell_type": "code",
   "execution_count": 18,
   "metadata": {},
   "outputs": [
    {
     "name": "stdout",
     "output_type": "stream",
     "text": [
      "a is tensor([2., 2., 2., 2., 2.])\n",
      "b is [2. 2. 2. 2. 2.]\n"
     ]
    }
   ],
   "source": [
    "a.add_(1)\r\n",
    "print(f'a is {a}')\r\n",
    "print(f'b is {b}') # modify a will also modify b"
   ]
  },
  {
   "cell_type": "markdown",
   "metadata": {},
   "source": [
    "### <span style='color:rgb(127, 255, 212)'> Below code is to work around the same memory pointer problem</span>"
   ]
  },
  {
   "cell_type": "code",
   "execution_count": 19,
   "metadata": {},
   "outputs": [
    {
     "name": "stdout",
     "output_type": "stream",
     "text": [
      "z is tensor([2., 2., 2., 2., 2.], device='cuda:0')\n"
     ]
    }
   ],
   "source": [
    "device = torch.device('cuda')\r\n",
    "if torch.cuda.is_available():\r\n",
    "    # create on gpu\r\n",
    "    x = torch.ones(5,device=device)\r\n",
    "    \r\n",
    "    # or create tensor and then move to gpu\r\n",
    "    y = torch.ones(5)\r\n",
    "    y = y.to(device)\r\n",
    "    z = x + y\r\n",
    "print(f'z is {z}')"
   ]
  },
  {
   "cell_type": "markdown",
   "metadata": {},
   "source": [
    "## <span style='color:rgb(127, 255, 212)'>numpy can only handle cpu tensor</span>\r\n",
    "**if you want to change the gpu tensor to numpy array, that tensor needs to converted back to cpu tensor as below**"
   ]
  },
  {
   "cell_type": "code",
   "execution_count": 20,
   "metadata": {},
   "outputs": [
    {
     "name": "stdout",
     "output_type": "stream",
     "text": [
      "numpy version of z is [2. 2. 2. 2. 2.]\n"
     ]
    }
   ],
   "source": [
    "z_numpy = z.to('cpu').numpy()\r\n",
    "print(f'numpy version of z is {z_numpy}')\r\n"
   ]
  },
  {
   "cell_type": "code",
   "execution_count": 21,
   "metadata": {},
   "outputs": [
    {
     "name": "stdout",
     "output_type": "stream",
     "text": [
      "add 1 to z tensor([3., 3., 3., 3., 3.], device='cuda:0')\n",
      "z_numpy is still the same[2. 2. 2. 2. 2.]\n"
     ]
    }
   ],
   "source": [
    "z.add_(1)\r\n",
    "print(f'add 1 to z {z}')\r\n",
    "print(f'z_numpy is still the same{z_numpy}')"
   ]
  },
  {
   "cell_type": "markdown",
   "metadata": {},
   "source": [
    "# <span style='color:rgb(127, 255, 212)'> AutoGrad Package for gradient Computation</span>"
   ]
  },
  {
   "cell_type": "markdown",
   "metadata": {},
   "source": [
    "### **required_grad = True in tensor creation to make sure that tensor will need to calculate the gradient later in optimization step**"
   ]
  },
  {
   "cell_type": "code",
   "execution_count": 22,
   "metadata": {},
   "outputs": [
    {
     "name": "stdout",
     "output_type": "stream",
     "text": [
      "tensor([0.5834, 0.2641, 0.1396, 0.8350], requires_grad=True)\n"
     ]
    }
   ],
   "source": [
    "x = torch.rand(4,requires_grad=True)\r\n",
    "print(x)"
   ]
  },
  {
   "cell_type": "code",
   "execution_count": 23,
   "metadata": {},
   "outputs": [
    {
     "name": "stdout",
     "output_type": "stream",
     "text": [
      "tensor([2.5834, 2.2641, 2.1396, 2.8350], grad_fn=<AddBackward0>)\n"
     ]
    }
   ],
   "source": [
    "y = x + 2\r\n",
    "print(y)"
   ]
  },
  {
   "cell_type": "markdown",
   "metadata": {},
   "source": [
    "### <span style='color:rgb(127, 255, 212)'> this is what a graph looks like</span>"
   ]
  },
  {
   "cell_type": "markdown",
   "metadata": {},
   "source": [
    "![image info](computation_graph.png)"
   ]
  },
  {
   "cell_type": "code",
   "execution_count": 24,
   "metadata": {},
   "outputs": [
    {
     "name": "stdout",
     "output_type": "stream",
     "text": [
      "tensor([13.3480, 10.2520,  9.1556, 16.0747], grad_fn=<MulBackward0>)\n"
     ]
    }
   ],
   "source": [
    "z = y * y * 2\r\n",
    "print(z)    # multiplication backward\r\n",
    " "
   ]
  },
  {
   "cell_type": "code",
   "execution_count": 25,
   "metadata": {},
   "outputs": [
    {
     "name": "stdout",
     "output_type": "stream",
     "text": [
      "tensor(12.2076, grad_fn=<MeanBackward0>)\n",
      "gradient is tensor([2.5834, 2.2641, 2.1396, 2.8350])\n"
     ]
    }
   ],
   "source": [
    "z = z.mean()\r\n",
    "print(z)        # mean backward\r\n",
    "z.backward()    # dz/dx\r\n",
    "print(f'gradient is {x.grad}')   # x.grad looks like the variable y."
   ]
  },
  {
   "cell_type": "markdown",
   "metadata": {},
   "source": [
    "## <span style='color:teal'>variable 'z' in above cell is scalar which has single value. That's why z.backward() works. If z is not scalar, backward will give you error as below</span>"
   ]
  },
  {
   "cell_type": "code",
   "execution_count": 31,
   "metadata": {},
   "outputs": [
    {
     "name": "stdout",
     "output_type": "stream",
     "text": [
      "z has more than one value tensor([13.3480, 10.2520,  9.1556, 16.0747], grad_fn=<MulBackward0>)\n",
      "\n",
      "Error => grad can be implicitly created only for scalar outputs\n"
     ]
    }
   ],
   "source": [
    "z = y*y*2\r\n",
    "print(f'z has more than one value {z}\\n')\r\n",
    "try:\r\n",
    "    z.backward()\r\n",
    "except RuntimeError as e:\r\n",
    "    print(f'Error => {e}')"
   ]
  },
  {
   "cell_type": "markdown",
   "metadata": {
    "tags": []
   },
   "source": [
    "## <span style = 'color:teal'>If variable is not a scalar, 'backward()' needs to take a vector. The size of column vector must be equal to the size of variable.</span>"
   ]
  },
  {
   "cell_type": "code",
   "execution_count": 32,
   "metadata": {
    "tags": []
   },
   "outputs": [
    {
     "name": "stdout",
     "output_type": "stream",
     "text": [
      "the size of vector is torch.Size([4])\n",
      "the size of \"z\" is torch.Size([4])\n",
      "tensor([ 4.6501, 20.3766,  2.1567, 25.5152])\n"
     ]
    }
   ],
   "source": [
    "vector = torch.tensor([0.1,1.0,0.001,1],dtype = torch.float32)\n",
    "print(f'the size of vector is {vector.size()}')\n",
    "print(f'the size of \"z\" is {z.size()}')\n",
    "z.backward(vector)     #dz/dx\n",
    "print(x.grad)"
   ]
  },
  {
   "cell_type": "markdown",
   "metadata": {},
   "source": [
    "### <span style='color:teal'>When in the training and we want to update the weight,that updating should not be part of the gradient.</span>"
   ]
  },
  {
   "cell_type": "markdown",
   "metadata": {
    "tags": []
   },
   "source": [
    "### option 1"
   ]
  },
  {
   "cell_type": "code",
   "execution_count": 37,
   "metadata": {},
   "outputs": [
    {
     "name": "stdout",
     "output_type": "stream",
     "text": [
      "tensor([-0.4867, -2.4738,  0.1705], requires_grad=True)\n",
      "tensor([-0.4867, -2.4738,  0.1705])\n"
     ]
    }
   ],
   "source": [
    "x = torch.randn(3,requires_grad = True)\n",
    "print(x)\n",
    "x.requires_grad_(False)\n",
    "print(x)"
   ]
  },
  {
   "cell_type": "markdown",
   "metadata": {
    "tags": []
   },
   "source": [
    "### option 2"
   ]
  },
  {
   "cell_type": "code",
   "execution_count": 38,
   "metadata": {},
   "outputs": [
    {
     "name": "stdout",
     "output_type": "stream",
     "text": [
      "tensor([-0.3727, -0.7802, -2.1452], requires_grad=True)\n",
      "tensor([-0.3727, -0.7802, -2.1452])\n"
     ]
    }
   ],
   "source": [
    "x = torch.randn(3,requires_grad = True)\n",
    "print(x)\n",
    "y = x.detach()\n",
    "print(y)"
   ]
  },
  {
   "cell_type": "markdown",
   "metadata": {},
   "source": [
    "### option 3"
   ]
  },
  {
   "cell_type": "code",
   "execution_count": 39,
   "metadata": {},
   "outputs": [
    {
     "name": "stdout",
     "output_type": "stream",
     "text": [
      "tensor([-0.6279, -0.2623, -0.8403], requires_grad=True)\n",
      "tensor([1.3721, 1.7377, 1.1597])\n"
     ]
    }
   ],
   "source": [
    "x = torch.randn(3,requires_grad = True)\n",
    "print(x)\n",
    "with torch.no_grad():\n",
    "    y = x + 2\n",
    "    print(y)"
   ]
  },
  {
   "cell_type": "markdown",
   "metadata": {},
   "source": [
    "## Whenever we call the backward method, the gradient for the tensor will be accumlated into '.grad' attribute. Their values will be summed up."
   ]
  },
  {
   "cell_type": "code",
   "execution_count": 47,
   "metadata": {},
   "outputs": [
    {
     "name": "stdout",
     "output_type": "stream",
     "text": [
      "for 0 iteration tensor([3., 3., 3., 3.])\n",
      "for 1 iteration tensor([6., 6., 6., 6.])\n",
      "for 2 iteration tensor([9., 9., 9., 9.])\n"
     ]
    }
   ],
   "source": [
    "weights = torch.ones(4,requires_grad = True)\n",
    "\n",
    "for epoch in range(3):\n",
    "    model_output = (weights*3).sum()\n",
    "    \n",
    "    model_output.backward()\n",
    "    \n",
    "    print(f'for {epoch} iteration {weights.grad}')"
   ]
  },
  {
   "cell_type": "markdown",
   "metadata": {},
   "source": [
    "### To prevent summing up, the gradients must be empited.\n",
    "####  weights.grad.zero_()"
   ]
  },
  {
   "cell_type": "code",
   "execution_count": 48,
   "metadata": {},
   "outputs": [
    {
     "name": "stdout",
     "output_type": "stream",
     "text": [
      "for 0 iteration tensor([3., 3., 3., 3.])\n",
      "for 1 iteration tensor([3., 3., 3., 3.])\n",
      "for 2 iteration tensor([3., 3., 3., 3.])\n"
     ]
    }
   ],
   "source": [
    "weights = torch.ones(4,requires_grad = True)\n",
    "\n",
    "for epoch in range(3):\n",
    "    model_output = (weights*3).sum()\n",
    "    \n",
    "    model_output.backward()\n",
    "    print(f'for {epoch} iteration {weights.grad}')\n",
    "    \n",
    "    weights.grad.zero_()"
   ]
  },
  {
   "cell_type": "code",
   "execution_count": null,
   "metadata": {},
   "outputs": [],
   "source": [
    "# the above code will be equal to this when we use one of the\n",
    "# torch optimizer.\n",
    "\n",
    "optimizer = torch.optim.SGD(weights,lr = 0.01)\n",
    "optimizer.step()\n",
    "optimizer.zero_grad()"
   ]
  },
  {
   "cell_type": "code",
   "execution_count": null,
   "metadata": {},
   "outputs": [],
   "source": []
  }
 ],
 "metadata": {
  "interpreter": {
   "hash": "9264711d228fe35bbbcc49f95b90edfc376310506fc14cf04059be83b6263525"
  },
  "kernelspec": {
   "display_name": "Python 3 (ipykernel)",
   "language": "python",
   "name": "python3"
  },
  "language_info": {
   "codemirror_mode": {
    "name": "ipython",
    "version": 3
   },
   "file_extension": ".py",
   "mimetype": "text/x-python",
   "name": "python",
   "nbconvert_exporter": "python",
   "pygments_lexer": "ipython3",
   "version": "3.9.6"
  }
 },
 "nbformat": 4,
 "nbformat_minor": 4
}
