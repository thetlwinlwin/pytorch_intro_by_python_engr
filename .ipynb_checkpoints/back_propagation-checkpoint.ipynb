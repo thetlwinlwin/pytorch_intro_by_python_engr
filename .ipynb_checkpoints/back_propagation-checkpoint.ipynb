{
 "cells": [
  {
   "cell_type": "markdown",
   "id": "a8c294f6",
   "metadata": {
    "tags": []
   },
   "source": [
    "![image info](back_propagation/local_gradient.png)"
   ]
  },
  {
   "cell_type": "markdown",
   "id": "990732af",
   "metadata": {},
   "source": [
    "to calculate the loss function to minimize the loss w.r.t the input parameters."
   ]
  },
  {
   "cell_type": "markdown",
   "id": "c4baa2a7",
   "metadata": {},
   "source": [
    "## <span style = 'color:teal'>There are three computation steps</span>\r\n",
    "* Forward Pass\r\n",
    "* Local Gradients\r\n",
    "* Backward Pass"
   ]
  },
  {
   "cell_type": "markdown",
   "id": "35ae4778",
   "metadata": {},
   "source": [
    "![image info](back_propagation/computation_step_in_neutorn.png)"
   ]
  },
  {
   "cell_type": "markdown",
   "id": "713d66f7",
   "metadata": {},
   "source": [
    "For step 1, we compute the difference between the actual result to computed outcome. (in green letters)"
   ]
  },
  {
   "cell_type": "markdown",
   "id": "52d16325",
   "metadata": {},
   "source": [
    "For step 2, each local gradients were calculated (in blue letters)"
   ]
  },
  {
   "cell_type": "markdown",
   "id": "a3ad9302",
   "metadata": {},
   "source": [
    "For step 3, using the chain rules to get the gradient of the loss w.r.t weight(w)"
   ]
  },
  {
   "cell_type": "code",
   "execution_count": null,
   "id": "8145dea7",
   "metadata": {},
   "outputs": [],
   "source": []
  }
 ],
 "metadata": {
  "kernelspec": {
   "display_name": "Python 3 (ipykernel)",
   "language": "python",
   "name": "python3"
  },
  "language_info": {
   "codemirror_mode": {
    "name": "ipython",
    "version": 3
   },
   "file_extension": ".py",
   "mimetype": "text/x-python",
   "name": "python",
   "nbconvert_exporter": "python",
   "pygments_lexer": "ipython3",
   "version": "3.9.6"
  }
 },
 "nbformat": 4,
 "nbformat_minor": 5
}
