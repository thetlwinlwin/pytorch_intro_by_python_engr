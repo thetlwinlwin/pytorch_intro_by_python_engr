{
 "cells": [
  {
   "cell_type": "code",
   "execution_count": 35,
   "source": [
    "import torch\r\n",
    "import torchvision"
   ],
   "outputs": [],
   "metadata": {}
  },
  {
   "cell_type": "markdown",
   "source": [
    "# The complete list of built-in transforms from pytorch can be see [here](https://pytorch.org/vision/stable/transforms.html)."
   ],
   "metadata": {}
  },
  {
   "cell_type": "markdown",
   "source": [
    "## On Images\r\n",
    "* CenterCrop, Grayscale, Pad, RandomAffine\r\n",
    "* RandomCrop, RandomHorizontalFlip, RandomRotation\r\n",
    "* Resize, Scale"
   ],
   "metadata": {}
  },
  {
   "cell_type": "markdown",
   "source": [
    "## On Tensors\r\n",
    "* LinearTransformation, Normalize, RandomErasing"
   ],
   "metadata": {}
  },
  {
   "cell_type": "markdown",
   "source": [
    "## Conversion\r\n",
    "* ToPILImage : from tensor or ndarray\r\n",
    "* ToTensor : from nummpy.ndarray or PILImage"
   ],
   "metadata": {}
  },
  {
   "cell_type": "markdown",
   "source": [
    "## Generic\r\n",
    "* Use Lambda"
   ],
   "metadata": {}
  },
  {
   "cell_type": "markdown",
   "source": [
    "## Custom\r\n",
    "* Write own class"
   ],
   "metadata": {}
  },
  {
   "cell_type": "markdown",
   "source": [
    "## Compose multiple Transforms\r\n",
    "### composed = transforms.Compose( [ Rescale(256), RandomCrop(224) ] )\r\n",
    "### torchvision.transform.ReScalse(256)\r\n",
    "### torchvision.transforms.ToTensor()"
   ],
   "metadata": {}
  },
  {
   "cell_type": "code",
   "execution_count": 36,
   "source": [
    "import torch\r\n",
    "import torchvision\r\n",
    "from torch.utils.data import Dataset, DataLoader\r\n",
    "import numpy as np\r\n",
    "\r\n",
    "\r\n",
    "class WineDataset(Dataset):  \r\n",
    "    def __init__(self,*,transform = None):\r\n",
    "        # data loading\r\n",
    "        xy = np.loadtxt('./dataset/wine.csv',delimiter=',',dtype=np.float32,skiprows=1)\r\n",
    "        # note we do not convert tensor here.\r\n",
    "        self.x = xy[:,1:]\r\n",
    "        self.y = xy[:,[0]]\r\n",
    "        self.n_samples = xy.shape[0]\r\n",
    "        # putting zero in square bracket makes the dimension of y into two. y.shape => [no_of_samples,1]\r\n",
    "        \r\n",
    "        # if we did y = xy[:,0] => this will give one dimension\r\n",
    "        # y.shape => (no_of_samples,)\r\n",
    "        self.transform = transform\r\n",
    "    \r\n",
    "    def __getitem__(self,index):\r\n",
    "        # indexing dataset\r\n",
    "        sample =  self.x[index],self.y[index] \r\n",
    "        if self.transform:\r\n",
    "            sample =self.transform(sample)          \r\n",
    "        return sample\r\n",
    "\r\n",
    "    def __len__(self):\r\n",
    "        # len(dataset)\r\n",
    "        return self.n_samples\r\n",
    "    \r\n"
   ],
   "outputs": [],
   "metadata": {}
  },
  {
   "cell_type": "markdown",
   "source": [
    "# To Write own custom class, we will write them as callable classes instead of simple functions so that parameters of the transform need not be passed everytime it’s called. For this, <span style = 'color:cyan'>we just need to implement __call__ method and if required, __init__ method.</span> "
   ],
   "metadata": {}
  },
  {
   "cell_type": "markdown",
   "source": [
    "ToTensor transform class does not required init method as it does not need input parameter while initiating the class.\r\n",
    "\r\n",
    "MulitplicationTransform needs init method as we need an argument of the multiplcation factor."
   ],
   "metadata": {}
  },
  {
   "cell_type": "code",
   "execution_count": 37,
   "source": [
    "class ToTensor: \r\n",
    "    # write classes where the instances behave like functions and can be called like a function.\r\n",
    "    def __call__(self,sample):\r\n",
    "        inputs, targets = sample\r\n",
    "        return torch.from_numpy(inputs), torch.from_numpy(targets)\r\n",
    "\r\n",
    "\r\n",
    "class MultiplicationTransform:\r\n",
    "    def __init__(self,factor):\r\n",
    "        self.factor = factor\r\n",
    "    \r\n",
    "    def __call__(self,sample):\r\n",
    "        inputs, targets = sample\r\n",
    "        inputs *= self.factor\r\n",
    "        return inputs,targets"
   ],
   "outputs": [],
   "metadata": {}
  },
  {
   "cell_type": "code",
   "execution_count": 38,
   "source": [
    "composed = torchvision.transforms.Compose([ToTensor(),MultiplicationTransform(2)])\r\n",
    "dataset = WineDataset(transform=composed)\r\n",
    "composed_first_data = dataset[0]\r\n",
    "print(composed_first_data)\r\n",
    "print(f'type of the composed_first_data is {type(composed_first_data[0])}')"
   ],
   "outputs": [
    {
     "output_type": "stream",
     "name": "stdout",
     "text": [
      "(tensor([2.8460e+01, 3.4200e+00, 4.8600e+00, 3.1200e+01, 2.5400e+02, 5.6000e+00,\n",
      "        6.1200e+00, 5.6000e-01, 4.5800e+00, 1.1280e+01, 2.0800e+00, 7.8400e+00,\n",
      "        2.1300e+03]), tensor([1.]))\n",
      "type of the composed_first_data is <class 'torch.Tensor'>\n"
     ]
    }
   ],
   "metadata": {}
  },
  {
   "cell_type": "code",
   "execution_count": 39,
   "source": [
    "dataset = WineDataset(transform=None)\r\n",
    "first_data= dataset[0]\r\n",
    "print(first_data[0])\r\n",
    "print(f'type of the first_data is {type(first_data[0])}')"
   ],
   "outputs": [
    {
     "output_type": "stream",
     "name": "stdout",
     "text": [
      "[1.423e+01 1.710e+00 2.430e+00 1.560e+01 1.270e+02 2.800e+00 3.060e+00\n",
      " 2.800e-01 2.290e+00 5.640e+00 1.040e+00 3.920e+00 1.065e+03]\n",
      "type of the first_data is <class 'numpy.ndarray'>\n"
     ]
    }
   ],
   "metadata": {}
  },
  {
   "cell_type": "code",
   "execution_count": 44,
   "source": [
    "print('Composed data is 2 times the original Data?\\n')\r\n",
    "composed_first_data[0][0].item() == 2*first_data[0][0].item()"
   ],
   "outputs": [
    {
     "output_type": "stream",
     "name": "stdout",
     "text": [
      "Composed data is 2 times the original Data?\n",
      "\n"
     ]
    },
    {
     "output_type": "execute_result",
     "data": {
      "text/plain": [
       "True"
      ]
     },
     "metadata": {},
     "execution_count": 44
    }
   ],
   "metadata": {}
  }
 ],
 "metadata": {
  "orig_nbformat": 4,
  "language_info": {
   "name": "python",
   "version": "3.9.6",
   "mimetype": "text/x-python",
   "codemirror_mode": {
    "name": "ipython",
    "version": 3
   },
   "pygments_lexer": "ipython3",
   "nbconvert_exporter": "python",
   "file_extension": ".py"
  },
  "kernelspec": {
   "name": "python3",
   "display_name": "Python 3.9.6 64-bit"
  },
  "interpreter": {
   "hash": "9264711d228fe35bbbcc49f95b90edfc376310506fc14cf04059be83b6263525"
  }
 },
 "nbformat": 4,
 "nbformat_minor": 2
}